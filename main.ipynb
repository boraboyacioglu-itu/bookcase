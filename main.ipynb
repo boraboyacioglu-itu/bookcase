{
 "cells": [
  {
   "cell_type": "markdown",
   "metadata": {},
   "source": [
    "# Book Scraping and Clustering\n",
    "Case Study for Patika Global Technology\n",
    "\n",
    "* **Author:** Bora Boyacıoğlu\n",
    "* **GitHub:** https://github.com/boraboyacioglu-itu\n",
    "* **E-Mail:** boraboyacioglu@icloud.com\n",
    "\n",
    "## Main Notebook\n",
    "\n",
    "This notebook contains the main tasks on the project. The required analyses are done, and a main model (alongside an alternative) has been selected to do the clustering."
   ]
  },
  {
   "cell_type": "markdown",
   "metadata": {},
   "source": [
    "### 1. Web Scraping\n",
    "\n",
    "This part is actually implemented in ```get_books.py```. Since the process takes time to run, I decided to write a terminal script. However, below, it is possible to run the code as well."
   ]
  },
  {
   "cell_type": "code",
   "execution_count": 1,
   "metadata": {},
   "outputs": [],
   "source": [
    "# Import necessary libraries.\n",
    "import json\n",
    "from get_books import scrape"
   ]
  },
  {
   "cell_type": "code",
   "execution_count": null,
   "metadata": {},
   "outputs": [],
   "source": [
    "# Define the base URL.\n",
    "base_url = 'http://books.toscrape.com/'\n",
    "\n",
    "# Scrape the books.\n",
    "books = scrape(base_url)"
   ]
  },
  {
   "cell_type": "code",
   "execution_count": null,
   "metadata": {},
   "outputs": [],
   "source": [
    "# Save the data to a JSON file.\n",
    "with open('books.json', 'w', encoding='utf-8') as f:\n",
    "    json.dump(books, f, indent=4)"
   ]
  },
  {
   "cell_type": "markdown",
   "metadata": {},
   "source": [
    "Alternatively, it is also possible to read the already-extracted book data."
   ]
  },
  {
   "cell_type": "code",
   "execution_count": 1,
   "metadata": {},
   "outputs": [],
   "source": [
    "import json\n",
    "\n",
    "# Read the already extracted books data.\n",
    "with open('books.json', encoding='utf-8') as f:\n",
    "    books = json.load(f)"
   ]
  },
  {
   "cell_type": "markdown",
   "metadata": {},
   "source": [
    "### 2. Analyses"
   ]
  },
  {
   "cell_type": "code",
   "execution_count": 20,
   "metadata": {},
   "outputs": [
    {
     "name": "stdout",
     "output_type": "stream",
     "text": [
      "Total number of books: \u001b[1m1000\u001b[0m\n",
      "First Book: \u001b[1mA Light in the Attic\u001b[0m\n",
      "-Last Book: \u001b[1m1,000 Places to See Before You Die\u001b[0m\n"
     ]
    }
   ],
   "source": [
    "import AnsiLib as al\n",
    "\n",
    "print(\"Total number of books:\", al.s(str(len(books)), False))\n",
    "print(\"First Book:\", al.s(books[0]['title'], False))\n",
    "print(\"-Last Book:\", al.s(books[-1]['title'], False))\n"
   ]
  },
  {
   "cell_type": "markdown",
   "metadata": {},
   "source": [
    "Additional analyses:"
   ]
  },
  {
   "cell_type": "code",
   "execution_count": 19,
   "metadata": {},
   "outputs": [
    {
     "name": "stdout",
     "output_type": "stream",
     "text": [
      "Average price of all books: \u001b[1m£35.07035\u001b[0m\n",
      "Average rating of all books: \u001b[1m2.923/5.000\u001b[0m\n",
      "Number of books without any stocks: \u001b[1m0\u001b[0m\n"
     ]
    }
   ],
   "source": [
    "print(\"Average price of all books:\", al.s(\"£\" + str(sum([float(book['price']) for book in books]) / len(books)), False))\n",
    "print(\"Average rating of all books:\", al.s(str(sum([float(book['rating']) for book in books]) / len(books)) + \"/5.000\", False))\n",
    "print(\"Number of books without any stocks:\", al.s(str(len([book for book in books if book['stock'] == '0'])), False))"
   ]
  },
  {
   "cell_type": "markdown",
   "metadata": {},
   "source": [
    "### 3. Clustering Model\n",
    "\n",
    "I have tried four type of clustering models in ```demos.ipynb```, and selected the Method 2 (Sentence Embeddings & K-Means Clustering) to be the best performing one.\n",
    "\n",
    "However, other than the most of the books haven't being clustered in HDBSCAN, the Method 4 also performs excellent."
   ]
  },
  {
   "cell_type": "code",
   "execution_count": 4,
   "metadata": {},
   "outputs": [
    {
     "name": "stderr",
     "output_type": "stream",
     "text": [
      "/Users/wndpzr/GitHub/bookcase/.venv/lib/python3.13/site-packages/tqdm/auto.py:21: TqdmWarning: IProgress not found. Please update jupyter and ipywidgets. See https://ipywidgets.readthedocs.io/en/stable/user_install.html\n",
      "  from .autonotebook import tqdm as notebook_tqdm\n"
     ]
    }
   ],
   "source": [
    "# Import necessary libraries.\n",
    "import re\n",
    "import random\n",
    "\n",
    "from sentence_transformers import SentenceTransformer\n",
    "\n",
    "from sklearn.cluster import KMeans\n",
    "import hdbscan"
   ]
  },
  {
   "cell_type": "code",
   "execution_count": 5,
   "metadata": {},
   "outputs": [],
   "source": [
    "DIVISION_FACTOR = 10  # Number of books in each cluster.\n",
    "\n",
    "RANDOM_SEED = 1984\n",
    "random.seed(RANDOM_SEED)"
   ]
  },
  {
   "cell_type": "code",
   "execution_count": 6,
   "metadata": {},
   "outputs": [],
   "source": [
    "# Slice the descriptions.\n",
    "pattern = r'[^a-zA-Z0-9\\s.,!?]'\n",
    "descriptions = [\n",
    "    re.sub(pattern, '', book['desc']).lower()\n",
    "    for book in books\n",
    "]"
   ]
  },
  {
   "cell_type": "markdown",
   "metadata": {},
   "source": [
    "#### Sentence Embeddings & K-Means Clustering"
   ]
  },
  {
   "cell_type": "code",
   "execution_count": 21,
   "metadata": {},
   "outputs": [
    {
     "name": "stderr",
     "output_type": "stream",
     "text": [
      "Batches: 100%|██████████| 32/32 [00:04<00:00,  7.65it/s]\n"
     ]
    }
   ],
   "source": [
    "# Load a pre-trained sentence transformer model.\n",
    "model = SentenceTransformer('all-MiniLM-L6-v2')\n",
    "\n",
    "# Encode the descriptions into embeddings.\n",
    "embeddings = model.encode(descriptions, show_progress_bar=True)"
   ]
  },
  {
   "cell_type": "code",
   "execution_count": 22,
   "metadata": {},
   "outputs": [],
   "source": [
    "# Fit K-Means clustering.\n",
    "n_clusters = len(books) // DIVISION_FACTOR\n",
    "kmeans = KMeans(n_clusters=n_clusters, random_state=RANDOM_SEED)\n",
    "\n",
    "kmeans.fit(embeddings)\n",
    "labels = kmeans.labels_"
   ]
  },
  {
   "cell_type": "code",
   "execution_count": 23,
   "metadata": {},
   "outputs": [],
   "source": [
    "# Group the descriptions by cluster.\n",
    "clusters = {i: [] for i in range(n_clusters)}\n",
    "for desc, label in zip(descriptions, labels):\n",
    "    clusters[label].append(desc)"
   ]
  },
  {
   "cell_type": "code",
   "execution_count": 24,
   "metadata": {},
   "outputs": [
    {
     "data": {
      "text/plain": [
       "['drawing on his extensive experience evaluating applicants for his marketing agency, and featuring stories based on reallife situations, sample cover letters, resumes, and straightforward advice, don raskins the dirty little secrets of getting your dream job offers all the necessary tools for navigating the tough job market and securing your dream job.don raskin owns and drawing on his extensive experience evaluating applicants for his marketing agency, and featuring stories based on reallife situations, sample cover letters, resumes, and straightforward advice, don raskins the dirty little secrets of getting your dream job offers all the necessary tools for navigating the tough job market and securing your dream job.don raskin owns and operates mme, an advertising and marketing agency in new york city. during his twentyfive years at the agency he has interviewed hundreds of new college graduates for positions within his agency and has placed a strong emphasis on entrylevel recruitment for positions in creative, account management, traffic, and production. raskin has also mentored countless students and their parents on best practices for the job search. over the years, raskin has kept exceptionally detailed notes on the interviews he has conducted, observing the good, the bad, the ridiculous, the irreverent. he also has a treasure trove of overthetop cover letters, resumes, interviews, and post interview followups he has conducted and received. now, he wants to share all the wisdom and insider secrets he has gathered to help students and firsttime job seekers find a job in this economy.based on his remarkable expertise, raskins book provides exclusive insight into the job search process and lets readers in on all of the dirty little secrets to landing their first jobor a new oneand finding career success. ...more',\n",
       " 'capital in the twentyfirst century meets the second machine age in this stunning and optimistic tour de force on the promise and peril of the digital economy, from one of the most brilliant social critics of our time. digital technology was supposed to usher in a new age of endless prosperity, but so far it has been used to put industrial capitalism on steroids, makin capital in the twentyfirst century meets the second machine age in this stunning and optimistic tour de force on the promise and peril of the digital economy, from one of the most brilliant social critics of our time. digital technology was supposed to usher in a new age of endless prosperity, but so far it has been used to put industrial capitalism on steroids, making it harder for people and businesses to keep up. social networks surrender their original missions to more immediately profitable data mining, while brokerage houses abandon value investing for algorithms that drain markets and our 401ks alikeall tactics driven by the need to stoke growth by any means necessary. instead of taking this opportunity to reprogram our economy for sustainability, we have doubled down on growth as its core command. we have reached the limits of this approach. we must escape the growth trap, once and for all.\\xa0media scholar and technology author douglas rushkoffone of todays most original and influential thinkersargues for a new economic program that utilizes the unique distributive power of the internet while breaking free of the winnertakeall system the growth trap leaves in its wake. drawing on sources both contemporary and historical, rushkoff pioneers a new understanding of the old economic paradigm, from central currency to debt to corporations and labor.most importantly, he offers a series of practical steps for businesses, consumers, investors, and policymakers to remake the economic operating system from the inside outand prosper along the way. instead of boycotting walmart or overtaxing the wealthy, we simply implement strategies that foster the creation of value by stakeholders other than just ourselves. from our currency to our labor to the corporation, every aspect of the economy can be reprogrammed with minimal disruption to create a more equitably distributed prosperity for all.inspiring and challenging, throwing rocks at the google bus provides a pragmatic, optimistic, and humancentered model for economic progress in the digital age. ...more',\n",
       " 'new york times bestsellerwall street journal bestsellerone of americas most accomplished entrepreneursa pioneer who made the internet part of everyday life and orchestrated the largest merger in the history of businessshares a roadmap for how anyone can succeed in a world of rapidly changing technology.steve cases career began when he cofounded america online aol in new york times bestsellerwall street journal bestsellerone of americas most accomplished entrepreneursa pioneer who made the internet part of everyday life and orchestrated the largest merger in the history of businessshares a roadmap for how anyone can succeed in a world of rapidly changing technology.steve cases career began when he cofounded america online aol in 1985. at the time, only three percent of americans were online. it took a decade for aol to achieve mainstream success, and there were many neardeath experiences and backtothewall pivots. aol became the top performing company of the 1990s, and at its peak more than half of all consumer internet traffic in the united states ran through the service. after case engineered aols merger with time warner and he became chairman of the combined business, case oversaw the biggest media and communications empire in the world. in the third wave, which pays homage to the work of the futurist alvin toffler from whom case has borrowed the title, and whose work inspired him as a young man, case takes us behind the scenes of some of the most consequential and riveting business decisions of our time while offering illuminating insights from decades of working as an entrepreneur, an investor, a philanthropist, and an advocate for sensible bipartisan policies. we are entering, as case explains, a new paradigm called the third wave of the internet. the first wave saw aol and other companies lay the foundation for consumers to connect to the internet. the second wave saw companies like google and facebook build on top of the internet to create search and social networking capabilities, while apps like snapchat and instagram leverage the smartphone revolution. now, case argues, were entering the third wave a period in which entrepreneurs will vastly transform major real world sectors like health, education, transportation, energy, and foodand in the process change the way we live our daily lives. but success in the third wave will require a different skill set, and case outlines the path forward.the third wave is part memoir, part manifesto, and part playbook for the future. with passion and clarity, case explains the ways in which newly emerging technology companies a growing number of which, he argues, will not be based in silicon valley will have to rethink their relationships with customers, with competitors, and with governments and offers advice for how entrepreneurs can make winning business decisions and strategiesand how all of us can make sense of this changing digital age. ...more',\n",
       " 'from bestselling author walter isaacson comes the landmark biography of apple cofounder steve jobs.in steve jobs the exclusive biography, isaacson provides an extraordinary account of jobs professional and personal life. drawn from three years of exclusive and unprecedented interviews isaacson has conducted with jobs as well as extensive interviews with jobs family me from bestselling author walter isaacson comes the landmark biography of apple cofounder steve jobs.in steve jobs the exclusive biography, isaacson provides an extraordinary account of jobs professional and personal life. drawn from three years of exclusive and unprecedented interviews isaacson has conducted with jobs as well as extensive interviews with jobs family members and key colleagues from apple and its competitors, steve jobs the exclusive biography is the definitive portrait of the greatest innovator of his generation. ...more',\n",
       " 'the businesses of the fantasy sports trade association have helped propel one of americas most beloved pastimes into a 26 billion dollar industry. the advent of daily fantasy sports has created thousands of jobs, raised millions in tax dollars, and has given consumers endless ways to play fantasy sports. unfortunately, all that may be coming to an end if the government an the businesses of the fantasy sports trade association have helped propel one of americas most beloved pastimes into a 26 billion dollar industry. the advent of daily fantasy sports has created thousands of jobs, raised millions in tax dollars, and has given consumers endless ways to play fantasy sports. unfortunately, all that may be coming to an end if the government and special interest groups have their way. daily fantasy sports, the book, explores the impact of fantasy sports in america today. take a stroll in fantasyland and discover everything there is to know about daily fantasy sports. learn about the legal challenges, how we got in this mess, and what choices the industry now faces in order to save fantasy sports. the author helps you connect the dots, all while keeping you entertained with thoughtful quotes, tips on how to play, and more. chapters include chapter 1  its a game of skill  explore how daily fantasy games are truly are a game of skill. chapter 2  las vegas  the silver bullet  see how vegas is responsible for the legal mess. chapter 3  the sharks  players  numbers, demographics, and the shark problem. chapter 4  its the economy stupid  how the government cant get out of its own way. chapter 5  the technology cat mouse game  predictions about the future and how dfs will evolve. chapter 6  the types of daily fantasy games  learn about all the different gameplay styles. chapter 7  how to be good at fantasy sports  tips, insight, and advice on how to up your game. chapter 8  behind the scenes magic  explore the businesses that make fantasy sports what it is today. chapter 9  thoughts from the industry  see what industry insiders have to say about fantasy sports. chapter 10  freedom with responsibility  why free market principals are all we need. chapter 11  keep fighting the good fight  what we can do to combat the downfall of dfs. the authors collective knowledge of the fantasy sports industry is virtually unparalleled, giving readers an in depth look at daily fantasy sports they wont find anywhere else. his involvement with a variety of industry operators, attorneys, and fsta businesses places him in a net neutral position that allows readers to see the industry for what it really is. fantasy sports players and industry insiders alike have sang high praises about this one of a kind book on daily fantasy sports. ...more',\n",
       " 'fascinating  a compelling blend of cultural anthropology and business journalism.  andrea sachs, time magazine an often startling tour of new cultural terrain.  laura miller, salon marked by meticulous research and careful conclusions, this superbly readable book confirms new york times journalist walker as an expert on consumerism.  a thoughtful and unhurried i fascinating  a compelling blend of cultural anthropology and business journalism.  andrea sachs, time magazine an often startling tour of new cultural terrain.  laura miller, salon marked by meticulous research and careful conclusions, this superbly readable book confirms new york times journalist walker as an expert on consumerism.  a thoughtful and unhurried investigation into consumerism that pushes the analysis to the maximum  publishers weekly starred review brands are dead. advertising no longer works. weaned on tivo, the internet, and other emerging technologies, the shortattentionspan generation has become immune to marketing. consumers are in control. or so were told.in buying in, new york times magazine consumed columnist rob walker argues that this accepted wisdom misses a much more important and lasting cultural shift. as technology has created avenues for advertising anywhere and everywhere, people are embracing brands more than ever beforecreating brands of their own and participating in marketing campaigns for their favorite brands in unprecedented ways. increasingly, motivated consumers are pitching in to spread the gospel virally, whether by creating internet video ads for converse all stars or becoming wordofmouth agents touting products to friends and family on behalf of huge corporations. in the process, theywehave begun to funnel cultural, political, and community activities through connections with brands. walker explores this changing cultural landscapeincluding a practice he calls murketing, blending the terms murky and marketingby introducing us to the creative marketers, entrepreneurs, artists, and community organizers who have found a way to thrive within it. using profiles of brands old and new, including timberland, american apparel, pabst blue ribbon, red bull, ipod, and livestrong, walker demonstrates the ways in which buyers adopt products, not just as consumer choices, but as conscious expressions of their identities. part marketing primer, part work of cultural anthropology, buying in reveals why now, more than ever, we are what we buyand vice versa. praise for buying in walker  makes a startling claim far from being immune to advertising, as many people think, american consumers are increasingly active participants in the marketing process.  he leads readers through a series of lucid case studies to demonstrate that, in many cases, consumers actively participate in infusing a brand with meaning.  convincing.  jay dixit, the washington post walker lays out his theory in wellwritten, entertaining detail.  seth stevenson, slate buying in delves into the attitudes of the global consumer in the age of plenty, and, well, we arent too pretty. walker carries the reader on a frenetically paced tour of senseless consumption spanning from viking ranges to custom hightops.  robert blinn, core77 rob walker is one smart shopper.  jen trolio, readymade the most trenchant psychoanalyst of our consumer selves is rob walker. this is a fresh and fascinating exploration of the places where material culture and identity intersect. michael pollan, author of in defense of food this book has vast social implications, far beyond the fields of marketing and branding. it obliterates our old paradigm of companies the bad guys corrupting our children the innocents via commercials. in this new world, medialiterate young people freely and willingly coopt the brands, and most companies are clueless bystanders desperate to keep up. i really dont know if this is good news or bad news, but i can say, with certainty, that this book is a mustread.po bronson, author of what should i do with my life? rob walker is a gift. he shows that in our shattered, scattered world, powerful brands are existential, insinuating themselves into the human questions what am i about? and how do i connect? his insight that brand influence is becoming both more pervasive and more hiddenthat we are not so selfdefined as we like to thinkshould make us disturbed, and vigilant.jim collins, author of good to greatrob walker is a terrific writer\\xa0who understands both human nature and the business world. his book is highly entertaining, but its also a deeply thoughtful look at the ways in which marketing meets the modern psyche.bethany mclean, editor at large, fortune, and coauthor of the smartest guys in the roomare we living in an era of youtubeempowered, brandrejecting consumers? rob walker has the surprising answers, and you wont want to miss this joyride through the front lines of consumer culture. a marketing mustread.chip heath and dan heath, authors of made to stick rob walker brilliantly deconstructs the religion of consumption. love his column, couldnt put his book down.paco underhill, author of why we buy ...more',\n",
       " 'you want people to recognize you, like you, and trust you, so they buy from you. you may have already branded yourself with this in mind but perhaps youre not getting the desired results. many people think that branding is about cool logos, fancy websites and social media popularity. but this line of thought causes potential successes to fail.so what does work? in the new you want people to recognize you, like you, and trust you, so they buy from you. you may have already branded yourself with this in mind but perhaps youre not getting the desired results. many people think that branding is about cool logos, fancy websites and social media popularity. but this line of thought causes potential successes to fail.so what does work? in the new brand you, julie broad, mba, bestselling author, popular speaker, and award winning entrepreneur, shares the secrets of creating a trusted brand.youll learn what is critical in reinventing your personal brand, and why you may never have to tweet, pin or post to do it. did you know that ? your brand is first of all about the feelings, thoughts and experiences of your customers and clients. there are at least 42 common communication mistakes that dilute your message, and only two things you have to do to have a brand with big impact. online, you are who google says you are the new brand you is your detailed guidebook to successfully recreating your brand and attracting your ideal clients. ...more',\n",
       " 'what should a television look like? how should a dial on a radio feel to the touch? these were questions john vassos asked when the radio corporation of america rca asked him to design the first massproduced television receiver, the trk12, which had its spectacular premier at the 1939 new york worlds fair. vassos emigrated from greece and arrived in the united states what should a television look like? how should a dial on a radio feel to the touch? these were questions john vassos asked when the radio corporation of america rca asked him to design the first massproduced television receiver, the trk12, which had its spectacular premier at the 1939 new york worlds fair. vassos emigrated from greece and arrived in the united states in 1918. his career spans the evolution of central forms of mass media in the twentieth century and offers a template for understanding their success. this is vassoss legacyshaping the way we interact with our media technologies. other industrial designers may be more celebrated, but none were more focused on making radio and television attractive and accessible to millions of americans.in john vassos industrial design for modern life, danielle shapiro is the first to examine the life and work of rcas key consultant designer through the rise of radio and television and into the computer era. vassos conceived a vision for the look of new technologies still with us today. a founder of the industrial designers society of america, he was instrumental in the development of a selfconscious industrial design profession during the late 1920s and 1930s and into the postwar period. drawing on unpublished records and correspondence, shapiro creates a portrait of a designer whose early artistic work in books like phobia and contempo critiqued the commercialization of modern life but whose later design work sought to accommodate it.replete with rich behindtheproduct stories of americas design culture in the 1930s through the 1950s, this volume also chronicles the emergence of what was to become the nations largest media company and provides a fascinating glimpse into its early corporate culture. in our current era of watching tv on an ipod or a smartphone, shapiro stimulates broad discussions of the meaning of technological design for mass media in daily life. ...more',\n",
       " 'instant new york times bestseller wildly entertaining ... lyons has injected a dose of sanity into a world gone mad. ashlee vance, new york timesbestselling author of elon muskfor twentyfive years dan lyons was a magazine writer at the top of his professionuntil one friday morning when he received a phone call poof. his job no longer existed. i think they just w instant new york times bestseller wildly entertaining ... lyons has injected a dose of sanity into a world gone mad. ashlee vance, new york timesbestselling author of elon muskfor twentyfive years dan lyons was a magazine writer at the top of his professionuntil one friday morning when he received a phone call poof. his job no longer existed. i think they just want to hire younger people, his boss at newsweek told him. fifty years old and with a wife and two young kids, dan was, in a word, screwed. then an idea hit. dan had long reported on silicon valley and the tech explosion. why not join it? hubspot, a boston startup, was flush with 100 million in venture capital. they offered dan a pile of stock options for the vague role of marketing fellow. what could go wrong? hubspotters were true believers they were making the world a better place ... by selling email spam. the office vibe was frat house meets cult compound the party began at four thirty on friday and lasted well into the night shower pods became hookup dens a pushup club met at noon in the lobby, while nearby, in the content factory, nerf gun fights raged. groups went on walking meetings, and dans absentee boss sent cryptic emails about employees who had graduated read been fired. in the middle of all this was dan, exactly twice the age of the average hubspot employee, and literally old enough to be the father of most of his coworkers, sitting at his desk on his bouncyball chair.mixed in with lyonss uproarious tale of his rise and fall at hubspot is a trenchant analysis of the startup world, a de facto conspiracy between those who start companies and those who fund them, a world where bad ideas are rewarded with hefty investments, where companies blow money lavishing perks on their postcollegiate workforces, and where everybody is trying to hang on just long enough to reach an ipo and cash out. with a cast of characters that includes devilish angel investors, fadchasing venture capitalists, entrepreneurs and wantrapreneurs, bloggers and brogrammers, social climbers and sociopaths, disrupted is a gripping and definitive account of life in the second tech bubble. ...more']"
      ]
     },
     "execution_count": 24,
     "metadata": {},
     "output_type": "execute_result"
    }
   ],
   "source": [
    "random.choice(clusters)"
   ]
  },
  {
   "cell_type": "markdown",
   "metadata": {},
   "source": [
    "##### Outcomes:\n",
    "\n",
    "The results show that the clusters contain similar books to each other, meaning the method of embedding the sentences and simply doing K-Means works."
   ]
  },
  {
   "cell_type": "code",
   "execution_count": 11,
   "metadata": {},
   "outputs": [],
   "source": [
    "# Save the clusters to a JSON file.\n",
    "with open('clusters.json', 'w', encoding='utf-8') as f:\n",
    "    json.dump(clusters, f, indent=4)"
   ]
  },
  {
   "cell_type": "markdown",
   "metadata": {},
   "source": [
    "#### HDBSCAN"
   ]
  },
  {
   "cell_type": "code",
   "execution_count": 31,
   "metadata": {},
   "outputs": [
    {
     "name": "stderr",
     "output_type": "stream",
     "text": [
      "Batches: 100%|██████████| 32/32 [00:04<00:00,  7.62it/s]\n"
     ]
    }
   ],
   "source": [
    "# Generate embeddings for the descriptions.\n",
    "model = SentenceTransformer('all-MiniLM-L6-v2')\n",
    "embeddings = model.encode(descriptions, show_progress_bar=True)"
   ]
  },
  {
   "cell_type": "code",
   "execution_count": 32,
   "metadata": {},
   "outputs": [
    {
     "name": "stderr",
     "output_type": "stream",
     "text": [
      "/Users/wndpzr/GitHub/bookcase/.venv/lib/python3.13/site-packages/sklearn/utils/deprecation.py:151: FutureWarning: 'force_all_finite' was renamed to 'ensure_all_finite' in 1.6 and will be removed in 1.8.\n",
      "  warnings.warn(\n",
      "/Users/wndpzr/GitHub/bookcase/.venv/lib/python3.13/site-packages/sklearn/utils/deprecation.py:151: FutureWarning: 'force_all_finite' was renamed to 'ensure_all_finite' in 1.6 and will be removed in 1.8.\n",
      "  warnings.warn(\n"
     ]
    }
   ],
   "source": [
    "# Cluster the embeddings using HDBSCAN.\n",
    "clusterer = hdbscan.HDBSCAN(min_cluster_size=DIVISION_FACTOR//4, metric='euclidean')\n",
    "cluster_labels = clusterer.fit_predict(embeddings)"
   ]
  },
  {
   "cell_type": "code",
   "execution_count": 33,
   "metadata": {},
   "outputs": [],
   "source": [
    "# Group the books by clusters.\n",
    "clusters = {}\n",
    "for desc, label in zip(descriptions, cluster_labels):\n",
    "    clusters.setdefault(label, []).append(desc)"
   ]
  },
  {
   "cell_type": "code",
   "execution_count": 34,
   "metadata": {},
   "outputs": [
    {
     "name": "stdout",
     "output_type": "stream",
     "text": [
      "Total number of clusters: \u001b[32m60\u001b[0m\n",
      "Ratio of outliers: \u001b[31m783\u001b[0m/1000\n"
     ]
    }
   ],
   "source": [
    "print(\"Total number of clusters:\", al.g(str(len(clusters)), False))\n",
    "print(\"Ratio of outliers:\", '/'.join([\n",
    "    al.r(str(list(cluster_labels).count(-1)), False),\n",
    "    str(len(cluster_labels))\n",
    "]))"
   ]
  },
  {
   "cell_type": "code",
   "execution_count": 35,
   "metadata": {},
   "outputs": [],
   "source": [
    "clusters.pop(-1);"
   ]
  },
  {
   "cell_type": "code",
   "execution_count": 36,
   "metadata": {},
   "outputs": [
    {
     "data": {
      "text/plain": [
       "['private investigator cormoran strike returns in a new mystery from robert galbraith, author of the 1 international bestseller the cuckoos calling.when novelist owen quine goes missing, his wife calls in private detective cormoran strike. at first, mrs. quine just thinks her husband has gone off by himself for a few daysas he has done beforeand she wants strike to find private investigator cormoran strike returns in a new mystery from robert galbraith, author of the 1 international bestseller the cuckoos calling.when novelist owen quine goes missing, his wife calls in private detective cormoran strike. at first, mrs. quine just thinks her husband has gone off by himself for a few daysas he has done beforeand she wants strike to find him and bring him home.but as strike investigates, it becomes clear that there is more to quines disappearance than his wife realizes. the novelist has just completed a manuscript featuring poisonous penportraits of almost everyone he knows. if the novel were to be published, it would ruin livesmeaning that there are a lot of people who might want him silenced.when quine is found brutally murdered under bizarre circumstances, it becomes a race against time to understand the motivation of a ruthless killer, a killer unlike any strike has encountered before... ...more',\n",
       " 'a brilliant debut mystery in a classic vein detective cormoran strike investigates a supermodels suicide. after losing his leg to a land mine in afghanistan, cormoran strike is barely scraping by as a private investigator. strike is down to one client, and creditors are calling. he has also just broken up with his longtime girlfriend and is living in his office.then john a brilliant debut mystery in a classic vein detective cormoran strike investigates a supermodels suicide. after losing his leg to a land mine in afghanistan, cormoran strike is barely scraping by as a private investigator. strike is down to one client, and creditors are calling. he has also just broken up with his longtime girlfriend and is living in his office.then john bristow walks through his door with an amazing story his sister, the legendary supermodel lula landry, known to her friends as the cuckoo, famously fell to her death a few months earlier. the police ruled it a suicide, but john refuses to believe that. the case plunges strike into the world of multimillionaire beauties, rockstar boyfriends, and desperate designers, and it introduces him to every variety of pleasure, enticement, seduction, and delusion known to man.you may think you know detectives, but youve never met one quite like strike. you may think you know about the wealthy and famous, but youve never seen them under an investigation like this. introducing cormoran strike, this is the acclaimed first crime novel by j.k. rowling, writing under the pseudonym robert galbraith. ...more',\n",
       " 'cormoran strike is back, with his assistant robin ellacott, in a mystery based around soldiers returning from war.when a mysterious package is delivered to robin ellacott, she is horrified to discover that it contains a womans severed leg.her boss, private detective cormoran strike, is less surprised but no less alarmed. there are four people from his past who he thinks c cormoran strike is back, with his assistant robin ellacott, in a mystery based around soldiers returning from war.when a mysterious package is delivered to robin ellacott, she is horrified to discover that it contains a womans severed leg.her boss, private detective cormoran strike, is less surprised but no less alarmed. there are four people from his past who he thinks could be responsible  and strike knows that any one of them is capable of sustained and unspeakable brutality.with the police focusing on the one suspect strike is increasingly sure is not the perpetrator, he and robin take matters into their own hands, and delve into the dark and twisted worlds of the other three men. but as more horrendous acts occur, time is running out for the two of themcareer of evil is the third in the series featuring private detective cormoran strike and his assistant robin ellacott. a mystery and also a story of a man and a woman at a crossroads in their personal and professional lives. ...more']"
      ]
     },
     "execution_count": 36,
     "metadata": {},
     "output_type": "execute_result"
    }
   ],
   "source": [
    "random.choice(clusters)"
   ]
  },
  {
   "cell_type": "code",
   "execution_count": 37,
   "metadata": {},
   "outputs": [
    {
     "data": {
      "text/plain": [
       "['capital in the twentyfirst century meets the second machine age in this stunning and optimistic tour de force on the promise and peril of the digital economy, from one of the most brilliant social critics of our time. digital technology was supposed to usher in a new age of endless prosperity, but so far it has been used to put industrial capitalism on steroids, makin capital in the twentyfirst century meets the second machine age in this stunning and optimistic tour de force on the promise and peril of the digital economy, from one of the most brilliant social critics of our time. digital technology was supposed to usher in a new age of endless prosperity, but so far it has been used to put industrial capitalism on steroids, making it harder for people and businesses to keep up. social networks surrender their original missions to more immediately profitable data mining, while brokerage houses abandon value investing for algorithms that drain markets and our 401ks alikeall tactics driven by the need to stoke growth by any means necessary. instead of taking this opportunity to reprogram our economy for sustainability, we have doubled down on growth as its core command. we have reached the limits of this approach. we must escape the growth trap, once and for all.\\xa0media scholar and technology author douglas rushkoffone of todays most original and influential thinkersargues for a new economic program that utilizes the unique distributive power of the internet while breaking free of the winnertakeall system the growth trap leaves in its wake. drawing on sources both contemporary and historical, rushkoff pioneers a new understanding of the old economic paradigm, from central currency to debt to corporations and labor.most importantly, he offers a series of practical steps for businesses, consumers, investors, and policymakers to remake the economic operating system from the inside outand prosper along the way. instead of boycotting walmart or overtaxing the wealthy, we simply implement strategies that foster the creation of value by stakeholders other than just ourselves. from our currency to our labor to the corporation, every aspect of the economy can be reprogrammed with minimal disruption to create a more equitably distributed prosperity for all.inspiring and challenging, throwing rocks at the google bus provides a pragmatic, optimistic, and humancentered model for economic progress in the digital age. ...more',\n",
       " 'if you want to build a better future, you must believe in secrets.the great secret of our time is that there are still uncharted frontiers to explore and new inventions to create. in zero to one , legendary entrepreneur and investor peter thiel shows how we can find singular ways to create those new things. thiel begins with the contrarian premise that we live in an age o if you want to build a better future, you must believe in secrets.the great secret of our time is that there are still uncharted frontiers to explore and new inventions to create. in zero to one , legendary entrepreneur and investor peter thiel shows how we can find singular ways to create those new things. thiel begins with the contrarian premise that we live in an age of technological stagnation, even if were too distracted by shiny mobile devices to notice. information technology has improved rapidly, but there is no reason why progress should be limited to computers or silicon valley. progress can be achieved in any industry or area of business. it comes from the most important skill that every leader must master learning to think for yourself.doing what someone else already knows how to do takes the world from 1 to n, adding more of something familiar. but when you do something new, you go from 0 to 1. the next bill gates will not build an operating system. the next larry page or sergey brin wont make a search engine. tomorrows champions will not win by competing ruthlessly in todays marketplace. they will escape competition altogether, because their businesses will be unique. zero to one presents at once an optimistic view of the future of progress in america and a new way of thinking about innovation it starts by learning to ask the questions that lead you to find value in unexpected places. ...more']"
      ]
     },
     "execution_count": 37,
     "metadata": {},
     "output_type": "execute_result"
    }
   ],
   "source": [
    "random.choice(clusters)"
   ]
  },
  {
   "cell_type": "code",
   "execution_count": 40,
   "metadata": {},
   "outputs": [
    {
     "data": {
      "text/plain": [
       "['the zombie apocalypse has never been more surreal! a mentally unhinged manga artist witnesses the beginning of a zombie outbreak in tokyo, and hes certain of only two things hes destined to be the citys hero, and he possesses something very rare in japanan actual firearm! kengo hanazawas awardwinning series comes to dark horse, and this realisticallydrawn internat the zombie apocalypse has never been more surreal! a mentally unhinged manga artist witnesses the beginning of a zombie outbreak in tokyo, and hes certain of only two things hes destined to be the citys hero, and he possesses something very rare in japanan actual firearm! kengo hanazawas awardwinning series comes to dark horse, and this realisticallydrawn international bestseller takes us from initial small battles for survival to a huge, bodyhorror epidemic that threatens all of humanity! these special omnibus volumes will collect two of the original japanese books into each dark horse edition and include all of the color pages.probably the greatest zombie manga ever. jason thompson manga the complete guide ...more',\n",
       " 'the zombie war came unthinkably close to eradicating humanity. max brooks, driven by the urgency of preserving the acidetched firsthand experiences of the survivors from those apocalyptic years, traveled across the united states of america and throughout the world, from decimated cities that once teemed with upwards of thirty million souls to the most remote and inhospit the zombie war came unthinkably close to eradicating humanity. max brooks, driven by the urgency of preserving the acidetched firsthand experiences of the survivors from those apocalyptic years, traveled across the united states of america and throughout the world, from decimated cities that once teemed with upwards of thirty million souls to the most remote and inhospitable areas of the planet. he recorded the testimony of men, women, and sometimes children who came facetoface with the living, or at least the undead, hell of that dreadful time. world war z is the result. never before have we had access to a document that so powerfully conveys the depth of fear and horror, and also the ineradicable spirit of resistance, that gripped human society through the plague years. ranging from the now infamous village of new dachang in the united federation of china, where the epidemiological trail began with the twelveyearold patient zero, to the unnamed northern forests where untold numbers sought a terrible and temporary refuge in the cold, to the united states of southern africa, where the redeker plan provided hope for humanity at an unspeakable price, to the westoftherockies redoubt where the north american tide finally started to turn, this invaluable chronicle reflects the full scope and duration of the zombie war. most of all, the book captures with haunting immediacy the human dimension of this epochal event. facing the often raw and vivid nature of these personal accounts requires a degree of courage on the part of the reader, but the effort is invaluable because, as mr. brooks says in his introduction, by excluding the human factor, arent we risking the kind of personal detachment from history that may, heaven forbid, lead us one day to repeat it? and in the end, isnt the human factor the only true difference between us and the enemy we now refer to as the living dead? note some of the numerical and factual material contained in this edition was previously published under the auspices of the united nations postwar commission. eyewitness reports from the first truly global war ...more',\n",
       " 'diary of a minecraft zombie has a fresh new look! ever wonder what it would be like to be a minecraft zombie? in the first book of this hilarious minecraft adventure series, we get to read the diary of an actual 12 year old, minecraft zombie. take a peek at what is really going on between the hollow eyes, and dead expression that we normally see when we face the dreaded z diary of a minecraft zombie has a fresh new look! ever wonder what it would be like to be a minecraft zombie? in the first book of this hilarious minecraft adventure series, we get to read the diary of an actual 12 year old, minecraft zombie. take a peek at what is really going on between the hollow eyes, and dead expression that we normally see when we face the dreaded zombies of minecraft. are zombies really different from us? youll be surprised at what you discover. so, jump into this minecraft adventure and find out!. diary of a zombie is a mustread for any kid who loves minecraft. kids ages 7 cant wait to jump into to these minecraft adventures! get your copy today! ...more']"
      ]
     },
     "execution_count": 40,
     "metadata": {},
     "output_type": "execute_result"
    }
   ],
   "source": [
    "clusters[12]"
   ]
  },
  {
   "cell_type": "markdown",
   "metadata": {},
   "source": [
    "##### Outcomes:\n",
    "\n",
    "Even though the clusters are almost perfect in terms of what they contain, the optimum cluster size is too low. When I try increasing the minimum cluster size, the cluster sizes suddenly increase a lot that there are only two non-outlier clusters.\n",
    "\n",
    "Also not forgetting that almost all (more than <font color=\"red\">75\\%</font>) books have not been clustered here, meaning the results are not going to help with proper clustering."
   ]
  }
 ],
 "metadata": {
  "kernelspec": {
   "display_name": ".venv",
   "language": "python",
   "name": "python3"
  },
  "language_info": {
   "codemirror_mode": {
    "name": "ipython",
    "version": 3
   },
   "file_extension": ".py",
   "mimetype": "text/x-python",
   "name": "python",
   "nbconvert_exporter": "python",
   "pygments_lexer": "ipython3",
   "version": "3.13.1"
  }
 },
 "nbformat": 4,
 "nbformat_minor": 2
}
