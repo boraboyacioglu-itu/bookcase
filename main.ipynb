{
 "cells": [
  {
   "cell_type": "markdown",
   "metadata": {},
   "source": [
    "# Book Scraping and Clustering\n",
    "Case Study for Patika Global Technology\n",
    "\n",
    "* **Author:** Bora Boyacıoğlu\n",
    "* **GitHub:** https://github.com/boraboyacioglu-itu\n",
    "* **E-Mail:** boraboyacioglu@icloud.com\n",
    "\n",
    "## Main Notebook\n",
    "\n",
    "This notebook contains the main tasks on the project. The required analyses are done, and a main model (alongside an alternative) has been selected to do the clustering."
   ]
  },
  {
   "cell_type": "markdown",
   "metadata": {},
   "source": [
    "### 1. Web Scraping\n",
    "\n",
    "This part is actually implemented in ```get_books.py```. Since the process takes time to run, I decided to write a terminal script. However, below, it is possible to run the code as well."
   ]
  },
  {
   "cell_type": "code",
   "execution_count": 1,
   "metadata": {},
   "outputs": [],
   "source": [
    "# Import necessary libraries.\n",
    "import json\n",
    "from get_books import scrape"
   ]
  },
  {
   "cell_type": "code",
   "execution_count": null,
   "metadata": {},
   "outputs": [],
   "source": [
    "# Define the base URL.\n",
    "base_url = 'http://books.toscrape.com/'\n",
    "\n",
    "# Scrape the books.\n",
    "books = scrape(base_url)"
   ]
  },
  {
   "cell_type": "code",
   "execution_count": null,
   "metadata": {},
   "outputs": [],
   "source": [
    "# Save the data to a JSON file.\n",
    "with open('books.json', 'w', encoding='utf-8') as f:\n",
    "    json.dump(books, f, indent=4)"
   ]
  },
  {
   "cell_type": "markdown",
   "metadata": {},
   "source": [
    "Alternatively, it is also possible to read the already-extracted book data."
   ]
  },
  {
   "cell_type": "code",
   "execution_count": 1,
   "metadata": {},
   "outputs": [],
   "source": [
    "import json\n",
    "\n",
    "# Read the already extracted books data.\n",
    "with open('books.json', encoding='utf-8') as f:\n",
    "    books = json.load(f)"
   ]
  },
  {
   "cell_type": "markdown",
   "metadata": {},
   "source": [
    "### 2. Analyses"
   ]
  },
  {
   "cell_type": "code",
   "execution_count": 2,
   "metadata": {},
   "outputs": [
    {
     "name": "stdout",
     "output_type": "stream",
     "text": [
      "Total number of books: \u001b[1m1000\u001b[0m\n",
      "First Book: \u001b[1mA Light in the Attic\u001b[0m\n",
      " Last Book: \u001b[1m1,000 Places to See Before You Die\u001b[0m\n"
     ]
    }
   ],
   "source": [
    "import AnsiLib as al\n",
    "\n",
    "print(\"Total number of books:\", al.s(str(len(books)), False))\n",
    "print(\"First Book:\", al.s(books[0]['title'], False))\n",
    "print(\" Last Book:\", al.s(books[-1]['title'], False))\n"
   ]
  },
  {
   "cell_type": "markdown",
   "metadata": {},
   "source": [
    "Additional analyses:"
   ]
  },
  {
   "cell_type": "code",
   "execution_count": 3,
   "metadata": {},
   "outputs": [
    {
     "name": "stdout",
     "output_type": "stream",
     "text": [
      "Average price of all books: \u001b[1m£35.07035\u001b[0m\n",
      "Average rating of all books: \u001b[1m2.923/5.000\u001b[0m\n"
     ]
    }
   ],
   "source": [
    "print(\"Average price of all books:\", al.s(\"£\" + str(sum([float(book['price']) for book in books]) / len(books)), False))\n",
    "print(\"Average rating of all books:\", al.s(str(sum([float(book['rating']) for book in books]) / len(books)) + \"/5.000\", False))"
   ]
  },
  {
   "cell_type": "markdown",
   "metadata": {},
   "source": [
    "### 3. Clustering Model\n",
    "\n",
    "I have tried four type of clustering models in ```demos.ipynb```, and selected the Method 2 (Sentence Embeddings & K-Means Clustering) to be the best performing one.\n",
    "\n",
    "However, other than the most of the books haven't being clustered in HDBSCAN, the Method 4 also performs excellent."
   ]
  },
  {
   "cell_type": "code",
   "execution_count": 4,
   "metadata": {},
   "outputs": [
    {
     "name": "stderr",
     "output_type": "stream",
     "text": [
      "/Users/wndpzr/GitHub/bookcase/.venv/lib/python3.13/site-packages/tqdm/auto.py:21: TqdmWarning: IProgress not found. Please update jupyter and ipywidgets. See https://ipywidgets.readthedocs.io/en/stable/user_install.html\n",
      "  from .autonotebook import tqdm as notebook_tqdm\n"
     ]
    }
   ],
   "source": [
    "# Import necessary libraries.\n",
    "import re\n",
    "import random\n",
    "\n",
    "from sentence_transformers import SentenceTransformer\n",
    "\n",
    "from sklearn.cluster import KMeans\n",
    "import hdbscan"
   ]
  },
  {
   "cell_type": "code",
   "execution_count": 5,
   "metadata": {},
   "outputs": [],
   "source": [
    "DIVISION_FACTOR = 10  # Number of books in each cluster.\n",
    "\n",
    "RANDOM_SEED = 1984\n",
    "random.seed(RANDOM_SEED)"
   ]
  },
  {
   "cell_type": "code",
   "execution_count": 6,
   "metadata": {},
   "outputs": [],
   "source": [
    "# Slice the descriptions.\n",
    "pattern = r'[^a-zA-Z0-9\\s.,!?]'\n",
    "descriptions = [\n",
    "    re.sub(pattern, '', book['desc']).lower()\n",
    "    for book in books\n",
    "]"
   ]
  },
  {
   "cell_type": "markdown",
   "metadata": {},
   "source": [
    "#### Sentence Embeddings & K-Means Clustering"
   ]
  },
  {
   "cell_type": "code",
   "execution_count": 7,
   "metadata": {},
   "outputs": [
    {
     "name": "stderr",
     "output_type": "stream",
     "text": [
      "Batches: 100%|██████████| 32/32 [00:06<00:00,  4.83it/s]\n"
     ]
    }
   ],
   "source": [
    "# Load a pre-trained sentence transformer model.\n",
    "model = SentenceTransformer('all-MiniLM-L6-v2')\n",
    "\n",
    "# Encode the descriptions into embeddings.\n",
    "embeddings = model.encode(descriptions, show_progress_bar=True)"
   ]
  },
  {
   "cell_type": "code",
   "execution_count": 8,
   "metadata": {},
   "outputs": [
    {
     "name": "stderr",
     "output_type": "stream",
     "text": [
      "huggingface/tokenizers: The current process just got forked, after parallelism has already been used. Disabling parallelism to avoid deadlocks...\n",
      "To disable this warning, you can either:\n",
      "\t- Avoid using `tokenizers` before the fork if possible\n",
      "\t- Explicitly set the environment variable TOKENIZERS_PARALLELISM=(true | false)\n"
     ]
    }
   ],
   "source": [
    "# Fit K-Means clustering.\n",
    "n_clusters = len(books) // DIVISION_FACTOR\n",
    "kmeans = KMeans(n_clusters=n_clusters, random_state=RANDOM_SEED)\n",
    "\n",
    "kmeans.fit(embeddings)\n",
    "labels = kmeans.labels_"
   ]
  },
  {
   "cell_type": "code",
   "execution_count": 9,
   "metadata": {},
   "outputs": [],
   "source": [
    "# Group the descriptions by cluster.\n",
    "clusters = {i: [] for i in range(n_clusters)}\n",
    "for desc, label in zip(descriptions, labels):\n",
    "    clusters[label].append(desc)"
   ]
  },
  {
   "cell_type": "code",
   "execution_count": 10,
   "metadata": {},
   "outputs": [
    {
     "data": {
      "text/plain": [
       "['start preparing children for classroom success with tracing numbers on a train! this educational workbook is filled with pages of giant numbers that make it easy for little hands to learn pencil control, followed by pages of small numbers for repetition and motor skill development. the illustrated practice pages will keep kids engaged while learning their numbers from 1 to start preparing children for classroom success with tracing numbers on a train! this educational workbook is filled with pages of giant numbers that make it easy for little hands to learn pencil control, followed by pages of small numbers for repetition and motor skill development. the illustrated practice pages will keep kids engaged while learning their numbers from 1 to 30. ...more',\n",
       " 'twotime winner of the pulitzer prize david mccullough tells the dramatic storybehindthestory about the courageous brothers who taught the world how to fly wilbur and orville wright.on a winter day in 1903, in the outer banks of north carolina, two unknown brothers from ohio changed history. but it would take the world some time to believe what had happened the age of twotime winner of the pulitzer prize david mccullough tells the dramatic storybehindthestory about the courageous brothers who taught the world how to fly wilbur and orville wright.on a winter day in 1903, in the outer banks of north carolina, two unknown brothers from ohio changed history. but it would take the world some time to believe what had happened the age of flight had begun, with the first heavierthanair, powered machine carrying a pilot.who were these men and how was it that they achieved what they did?david mccullough, twotime winner of the pulitzer prize, tells the surprising, profoundly american story of wilbur and orville wright.far more than a couple of unschooled dayton bicycle mechanics who happened to hit on success, they were men of exceptional courage and determination, and of farranging intellectual interests and ceaseless curiosity, much of which they attributed to their upbringing. the house they lived in had no electricity or indoor plumbing, but there were books aplenty, supplied mainly by their preacher father, and they never stopped reading.when they worked together, no problem seemed to be insurmountable. wilbur was unquestionably a genius. orville had such mechanical ingenuity as few had ever seen. that they had no more than a public high school education, little money and no contacts in high places, never stopped them in their mission to take to the air. nothing did, not even the selfevident reality that every time they took off in one of their contrivances, they risked being killed.in this thrilling book, master historian david mccullough draws on the immense riches of the wright papers, including private diaries, notebooks, scrapbooks, and more than a thousand letters from private family correspondence to tell the human side of the wright brothers story, including the littleknown contributions of their sister, katharine, without whom things might well have gone differently for them. ...more',\n",
       " 'in this fable, the first man on earth to count the hours becomes father time. the inventor of the worlds first clock is punished for trying to measure gods greatest gift. he is banished to a cave for centuries and forced to listen to the voices of all who come after him seeking more days, more years. eventually, with his soul nearly broken, father time is granted his fre in this fable, the first man on earth to count the hours becomes father time. the inventor of the worlds first clock is punished for trying to measure gods greatest gift. he is banished to a cave for centuries and forced to listen to the voices of all who come after him seeking more days, more years. eventually, with his soul nearly broken, father time is granted his freedom, along with a magical hourglass and a mission a chance to redeem himself by teaching two earthly people the true meaning of time.he returns to our world  now dominated by the hourcounting he so innocently began  and commences a journey with two unlikely partners one a teenage girl who is about to give up on life, the other a wealthy old businessman who wants to live forever. to save himself, he must save them both. and stop the world to do so. ...more',\n",
       " 'finalist, 9th annual national indie excellence awards fast, fun, and engaging, this book makes sleepy time special for children and parents alike. follow the kangaroo through the zoo as he gets ready for a naparoo. little ones cant get enough of this adorable modern book that centers around naps. with colorful images and imaginative text, this story is easy to fall in l finalist, 9th annual national indie excellence awards fast, fun, and engaging, this book makes sleepy time special for children and parents alike. follow the kangaroo through the zoo as he gets ready for a naparoo. little ones cant get enough of this adorable modern book that centers around naps. with colorful images and imaginative text, this story is easy to fall in love with. children will enjoy taking a naparoo just like the kangaroo. ...more',\n",
       " 'the companion to the 1 blockbuster bestseller, the day the crayons quit! im not sure what it is about this kid duncan, but his crayons sure are a colorful bunch of characters! having soothed the hurt feelings of one group who threatened to quit, duncan now faces a whole new group of crayons asking to be rescued. from maroon crayon, who was lost beneath the sofa cushions the companion to the 1 blockbuster bestseller, the day the crayons quit! im not sure what it is about this kid duncan, but his crayons sure are a colorful bunch of characters! having soothed the hurt feelings of one group who threatened to quit, duncan now faces a whole new group of crayons asking to be rescued. from maroon crayon, who was lost beneath the sofa cushions and then broken in two after dad sat on him to poor turquoise, whose head is now stuck to one of duncans stinky socks after they both ended up in the dryer together to pea green, who knows darn well that no kid likes peas and who ran awayeach and every crayon has a woeful tale to tell and a plea to be brought home to the crayon box. drew daywalt and oliver jeffers have combined to create a companion book every bit as funny and kidfriendly as the 1 bestselling\\xa0the day the crayons quit.praise for the day the crayons quit the 1\\xa0new york times bestselling phenomenon  over 80 weeks on the bestseller list!winner of the e.b. white readaloud award amazons 2013 best picture book of the year a barnes  noble best book of 2013 goodreads 2013 best picture book of the year\\xa0  hilarious . . . move over, click, clack, moo weve got a new contender for the most successful picturebook strike. bccb, starred review\\xa0 jeffers . . . elevates crayon drawing to remarkable heights. booklist fresh and funny. the wall street journal this book will have children asking to have it read again and again. library media connection  this colorful title should make for an uproarious storytime. school library journal, starred review\\xa0  these memorable personalities will leave readers glancing apprehensively at their own crayon boxes. publishers weekly, starred review\\xa0 utterly original. san francisco chronicle ...more',\n",
       " 'caldecott medalist dan santat takes readers on the road trip of a lifetime!are we there yet? every parent has heard this classic kid question on a long car rideand after reading this astonishingly inventive new book that even turns upside down for several pages!, youll never look at being bored the same way again.lets face it everyone knows that car rides can be b caldecott medalist dan santat takes readers on the road trip of a lifetime!are we there yet? every parent has heard this classic kid question on a long car rideand after reading this astonishingly inventive new book that even turns upside down for several pages!, youll never look at being bored the same way again.lets face it everyone knows that car rides can be boring. and when things get boring, time slows down. in this book, a boy feels time slowing down so much that it starts going backwardinto the time of pirates! of princesses! of dinosaurs! the boy was just trying to get to his grandmothers birthday party, but instead hes traveling through ancient egypt and rubbing shoulders with ben franklin. when time flies, who knows whereor whenhell end up. ...more']"
      ]
     },
     "execution_count": 10,
     "metadata": {},
     "output_type": "execute_result"
    }
   ],
   "source": [
    "random.choice(clusters)"
   ]
  },
  {
   "cell_type": "markdown",
   "metadata": {},
   "source": [
    "##### Outcomes:\n",
    "\n",
    "The results show that the clusters contain similar books to each other, meaning the method of embedding the sentences and simply doing K-Means works."
   ]
  },
  {
   "cell_type": "code",
   "execution_count": 11,
   "metadata": {},
   "outputs": [],
   "source": [
    "# Save the clusters to a JSON file.\n",
    "with open('clusters.json', 'w', encoding='utf-8') as f:\n",
    "    json.dump(clusters, f, indent=4)"
   ]
  },
  {
   "cell_type": "markdown",
   "metadata": {},
   "source": [
    "#### HDBSCAN"
   ]
  },
  {
   "cell_type": "code",
   "execution_count": 12,
   "metadata": {},
   "outputs": [
    {
     "name": "stderr",
     "output_type": "stream",
     "text": [
      "Batches: 100%|██████████| 32/32 [00:04<00:00,  7.64it/s]\n"
     ]
    }
   ],
   "source": [
    "# Generate embeddings for the descriptions.\n",
    "model = SentenceTransformer('all-MiniLM-L6-v2')\n",
    "embeddings = model.encode(descriptions, show_progress_bar=True)"
   ]
  },
  {
   "cell_type": "code",
   "execution_count": 13,
   "metadata": {},
   "outputs": [
    {
     "name": "stderr",
     "output_type": "stream",
     "text": [
      "/Users/wndpzr/GitHub/bookcase/.venv/lib/python3.13/site-packages/sklearn/utils/deprecation.py:151: FutureWarning: 'force_all_finite' was renamed to 'ensure_all_finite' in 1.6 and will be removed in 1.8.\n",
      "  warnings.warn(\n",
      "/Users/wndpzr/GitHub/bookcase/.venv/lib/python3.13/site-packages/sklearn/utils/deprecation.py:151: FutureWarning: 'force_all_finite' was renamed to 'ensure_all_finite' in 1.6 and will be removed in 1.8.\n",
      "  warnings.warn(\n"
     ]
    }
   ],
   "source": [
    "# Cluster the embeddings using HDBSCAN.\n",
    "clusterer = hdbscan.HDBSCAN(min_cluster_size=DIVISION_FACTOR//4, metric='euclidean')\n",
    "cluster_labels = clusterer.fit_predict(embeddings)"
   ]
  },
  {
   "cell_type": "code",
   "execution_count": 14,
   "metadata": {},
   "outputs": [],
   "source": [
    "# Group the books by clusters.\n",
    "clusters = {}\n",
    "for desc, label in zip(descriptions, cluster_labels):\n",
    "    clusters.setdefault(label, []).append(desc)"
   ]
  },
  {
   "cell_type": "code",
   "execution_count": 15,
   "metadata": {},
   "outputs": [
    {
     "name": "stdout",
     "output_type": "stream",
     "text": [
      "Total number of clusters: \u001b[32m60\u001b[0m\n",
      "Ratio of outliers: \u001b[31m783\u001b[0m/1000\n"
     ]
    }
   ],
   "source": [
    "print(\"Total number of clusters:\", al.g(str(len(clusters)), False))\n",
    "print(\"Ratio of outliers:\", '/'.join([\n",
    "    al.r(str(list(cluster_labels).count(-1)), False),\n",
    "    str(len(cluster_labels))\n",
    "]))"
   ]
  },
  {
   "cell_type": "code",
   "execution_count": 16,
   "metadata": {},
   "outputs": [],
   "source": [
    "clusters.pop(-1);"
   ]
  },
  {
   "cell_type": "code",
   "execution_count": 17,
   "metadata": {},
   "outputs": [
    {
     "data": {
      "text/plain": [
       "['when worldrenowned harvard symbologist robert langdon is summoned to a swiss research facility to analyze a mysterious symbolseared into the chest of a murdered physicisthe discovers evidence of the unimaginable the resurgence of an ancient secret brotherhood known as the illuminati ... the most powerful underground organization ever to walk the earth. the illuminati h when worldrenowned harvard symbologist robert langdon is summoned to a swiss research facility to analyze a mysterious symbolseared into the chest of a murdered physicisthe discovers evidence of the unimaginable the resurgence of an ancient secret brotherhood known as the illuminati ... the most powerful underground organization ever to walk the earth. the illuminati has now surfaced to carry out the final phase of its legendary vendetta against its most hated enemythe catholic church. langdons worst fears are confirmed on the eve of the holy conclave, when a messenger of the illuminati announces they have hidden an unstoppable time bomb at the very heart of vatican city. with the countdown under way, langdon jets to rome to join forces with vittoria vetra, a beautiful and mysterious italian scientist, to assist the vatican in a desperate bid for survival. embarking on a frantic hunt through sealed crypts, dangerous catacombs, deserted cathedrals, and even the most secretive vault on earth, langdon and vetra follow a 400yearold trail of ancient symbols that snakes across rome toward the longforgotten illuminati lair ... a clandestine location that contains the only hope for vatican salvation. ...more',\n",
       " 'an ingenious code hidden in the works of leonardo da vinci. a desperate race through the cathedrals and castles of europe. an astonishing truth concealed for centuries . . . unveiled at last.while in paris, harvard symbologist robert langdon is awakened by a phone call in the dead of the night. the elderly curator of the louvre has been murdered inside the museum, his body an ingenious code hidden in the works of leonardo da vinci. a desperate race through the cathedrals and castles of europe. an astonishing truth concealed for centuries . . . unveiled at last.while in paris, harvard symbologist robert langdon is awakened by a phone call in the dead of the night. the elderly curator of the louvre has been murdered inside the museum, his body covered in baffling symbols. as langdon and gifted french cryptologist sophie neveu sort through the bizarre riddles, they are stunned to discover a trail of clues hidden in the works of leonardo da vinciclues visible for all to see and yet ingeniously disguised by the painter.even more startling, the late curator was involved in the priory of siona secret society whose members included sir isaac newton, victor hugo, and da vinciand he guarded a breathtaking historical secret. unless langdon and neveu can decipher the labyrinthine puzzlewhile avoiding the faceless adversary who shadows their every movethe explosive, ancient truth will be lost forever. ...more',\n",
       " 'in his international blockbusters the da vinci code, angels  demons, and the lost symbol, dan brown masterfully fused history, art, codes, and symbols. in this riveting new thriller, brown returns to his element and has crafted his higheststakes novel to date.in the heart of italy, harvard professor of symbology robert langdon is drawn into a harrowing world centered in his international blockbusters the da vinci code, angels  demons, and the lost symbol, dan brown masterfully fused history, art, codes, and symbols. in this riveting new thriller, brown returns to his element and has crafted his higheststakes novel to date.in the heart of italy, harvard professor of symbology robert langdon is drawn into a harrowing world centered on one of historys most enduring and mysterious literary masterpieces . . . dantes inferno.against this backdrop, langdon battles a chilling adversary and grapples with an ingenious riddle that pulls him into a landscape of classic art, secret passageways, and futuristic science. drawing from dantes dark epic poem, langdon races to find answers and decide whom to trust . . . before the world is irrevocably altered. ...more']"
      ]
     },
     "execution_count": 17,
     "metadata": {},
     "output_type": "execute_result"
    }
   ],
   "source": [
    "random.choice(clusters)"
   ]
  },
  {
   "cell_type": "code",
   "execution_count": 18,
   "metadata": {},
   "outputs": [
    {
     "data": {
      "text/plain": [
       "['nothing living is safe. nothing dead is to be trusted.for years, gansey has been on a quest to find a lost king. one by one, hes drawn others into this quest ronan, who steals from dreams adam, whose life is no longer his own noah, whose life is no longer a lie and blue, who loves ganseyand is certain she is destined to kill him.now the endgame has begun. dreams and nothing living is safe. nothing dead is to be trusted.for years, gansey has been on a quest to find a lost king. one by one, hes drawn others into this quest ronan, who steals from dreams adam, whose life is no longer his own noah, whose life is no longer a lie and blue, who loves ganseyand is certain she is destined to kill him.now the endgame has begun. dreams and nightmares are converging. love and loss are inseparable. and the quest refuses to be pinned to a path. ...more',\n",
       " 'every year, blue sargent stands next to her clairvoyant mother as the soontobe dead walk past. blue never sees themuntil this year, when a boy emerges from the dark and speaks to her.his name is gansey, a rich student at aglionby, the local private school. blue has a policy of staying away from aglionby boys. known as raven boys, they can only mean trouble.but blue is every year, blue sargent stands next to her clairvoyant mother as the soontobe dead walk past. blue never sees themuntil this year, when a boy emerges from the dark and speaks to her.his name is gansey, a rich student at aglionby, the local private school. blue has a policy of staying away from aglionby boys. known as raven boys, they can only mean trouble.but blue is drawn to gansey, in a way she cant entirely explain. he is on a quest that has encompassed three other raven boys adam, the scholarship student who resents the privilege around him ronan, the fierce soul whose emotions range from anger to despair and noah, the taciturn watcher who notices many things but says very little.for as long as she can remember, blue has been warned that she will cause her true love to die. she doesnt believe in true love, and never thought this would be a problem. but as her life becomes caught up in the strange and sinister world of the raven boys, shes not so sure anymore. ...more',\n",
       " 'if you could steal things from dreams, what would you take?ronan lynch has secrets. some he keeps from others. some he keeps from himself.one secret ronan can bring things out of his dreams.and sometimes hes not the only one who wants those things.ronan is one of the raven boysa group of friends, practically brothers, searching for a dead king named glendower, who they if you could steal things from dreams, what would you take?ronan lynch has secrets. some he keeps from others. some he keeps from himself.one secret ronan can bring things out of his dreams.and sometimes hes not the only one who wants those things.ronan is one of the raven boysa group of friends, practically brothers, searching for a dead king named glendower, who they think is hidden somewhere in the hills by their elite private school, aglionby academy. the path to glendower has long lived as an undercurrent beneath town. but now, like ronans secrets, it is beginning to rise to the surfacechanging everything in its wake.of the raven boys, entertainment weekly wrote, maggie stiefvaters cantputitdown paranormal adventure will leave you clamoring for book two. now the second book is here, with the same wild imagination, dark romance, and heartstopping twists that only maggie stiefvater can conjure. ...more',\n",
       " 'there is danger in dreaming. but there is even more danger in waking up. blue sargent has found things. for the first time in her life, she has friends she can trust, a group to which she can belong. the raven boys have taken her in as one of their own. their problems have become hers, and her problems have become theirs. the trick with found things though, is how easily t there is danger in dreaming. but there is even more danger in waking up. blue sargent has found things. for the first time in her life, she has friends she can trust, a group to which she can belong. the raven boys have taken her in as one of their own. their problems have become hers, and her problems have become theirs. the trick with found things though, is how easily they can be lost. friends can betray. mothers can disappear. visions can mislead. certainties can unravel. ...more']"
      ]
     },
     "execution_count": 18,
     "metadata": {},
     "output_type": "execute_result"
    }
   ],
   "source": [
    "random.choice(clusters)"
   ]
  },
  {
   "cell_type": "markdown",
   "metadata": {},
   "source": [
    "##### Outcomes:\n",
    "\n",
    "Even though the clusters are almost perfect in terms of what they contain, the optimum cluster size is too low. When I try increasing the minimum cluster size, the cluster sizes suddenly increase a lot that there are only two non-outlier clusters.\n",
    "\n",
    "Also not forgetting that almost all (more than <font color=\"red\">75\\%</font>) books have not been clustered here, meaning the results are not going to help with proper clustering."
   ]
  }
 ],
 "metadata": {
  "kernelspec": {
   "display_name": ".venv",
   "language": "python",
   "name": "python3"
  },
  "language_info": {
   "codemirror_mode": {
    "name": "ipython",
    "version": 3
   },
   "file_extension": ".py",
   "mimetype": "text/x-python",
   "name": "python",
   "nbconvert_exporter": "python",
   "pygments_lexer": "ipython3",
   "version": "3.13.1"
  }
 },
 "nbformat": 4,
 "nbformat_minor": 2
}
