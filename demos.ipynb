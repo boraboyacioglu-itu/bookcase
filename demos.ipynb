{
 "cells": [
  {
   "cell_type": "markdown",
   "metadata": {},
   "source": [
    "# Book Scraping and Clustering\n",
    "Case Study for Patika Global Technology\n",
    "\n",
    "* **Author:** Bora Boyacıoğlu\n",
    "* **GitHub:** https://github.com/boraboyacioglu-itu\n",
    "* **E-Mail:** boraboyacioglu@icloud.com\n",
    "\n",
    "## Clustering Demos\n",
    "\n",
    "This notebook tries different clustering methods, using either NLP or embedding methods."
   ]
  },
  {
   "cell_type": "code",
   "execution_count": 1,
   "metadata": {},
   "outputs": [],
   "source": [
    "# Import necessary libraries.\n",
    "import re\n",
    "import json\n",
    "import random\n",
    "\n",
    "import numpy as np\n",
    "import AnsiLib as al"
   ]
  },
  {
   "cell_type": "code",
   "execution_count": 2,
   "metadata": {},
   "outputs": [],
   "source": [
    "DIVISION_FACTOR = 10  # Number of books in each cluster.\n",
    "\n",
    "RANDOM_SEED = 1984\n",
    "random.seed(RANDOM_SEED)"
   ]
  },
  {
   "cell_type": "code",
   "execution_count": 3,
   "metadata": {},
   "outputs": [],
   "source": [
    "# Read the already extracted books data.\n",
    "with open('books.json', encoding='utf-8') as f:\n",
    "    books = json.load(f)\n",
    "\n",
    "# Slice the descriptions.\n",
    "pattern = r'[^a-zA-Z0-9\\s.,!?]'\n",
    "descriptions = [\n",
    "    re.sub(pattern, '', book['desc']).lower()\n",
    "    for book in books\n",
    "]"
   ]
  },
  {
   "cell_type": "markdown",
   "metadata": {},
   "source": [
    "### Method 1: TF-IDF Vectorisation & K-Means Clustering\n",
    "\n",
    "This is the straight-forward K-Means clustering, using 10 clusters. First, the descriptions turned into vectors, then fitted into the clustering model."
   ]
  },
  {
   "cell_type": "code",
   "execution_count": 4,
   "metadata": {},
   "outputs": [],
   "source": [
    "# Import necessary libraries.\n",
    "from sklearn.feature_extraction.text import TfidfVectorizer\n",
    "from sklearn.cluster import KMeans"
   ]
  },
  {
   "cell_type": "code",
   "execution_count": 5,
   "metadata": {},
   "outputs": [],
   "source": [
    "# Convert descriptions to TF-IDF vectors.\n",
    "vectorizer = TfidfVectorizer(stop_words='english')\n",
    "X = vectorizer.fit_transform(descriptions)"
   ]
  },
  {
   "cell_type": "code",
   "execution_count": 6,
   "metadata": {},
   "outputs": [],
   "source": [
    "# Fit K-Means clustering.\n",
    "n_clusters = len(books) // DIVISION_FACTOR\n",
    "kmeans = KMeans(n_clusters=n_clusters, random_state=1984)\n",
    "\n",
    "kmeans.fit(X)\n",
    "labels = kmeans.labels_"
   ]
  },
  {
   "cell_type": "code",
   "execution_count": 7,
   "metadata": {},
   "outputs": [],
   "source": [
    "# Group the descriptions by cluster.\n",
    "clusters = {i: [] for i in range(n_clusters)}\n",
    "for desc, label in zip(descriptions, labels):\n",
    "    clusters[label].append(desc)"
   ]
  },
  {
   "cell_type": "code",
   "execution_count": 8,
   "metadata": {},
   "outputs": [
    {
     "data": {
      "text/plain": [
       "['one class assignment. one second chance at love. the school player is all in. now he needs to win back the sweet commitment girl whos forever owned his heart. justin carter has a secret. hes not the total player fairfield academy believes him to be. not really. in fact, he used to be a onewoman guy...and his feelings for her never went away. too bad he broke her heart t one class assignment. one second chance at love. the school player is all in. now he needs to win back the sweet commitment girl whos forever owned his heart. justin carter has a secret. hes not the total player fairfield academy believes him to be. not really. in fact, he used to be a onewoman guy...and his feelings for her never went away. too bad he broke her heart three years ago and made sure to ruin any chance shed ever forgive him. peyton williams is a liar. she pretends to be whole, counting down the days until graduation and helping her parents at the family ranch. but the truth is, shes done everything she can to get over justin, and salvation is just around the corner. with graduation one short month away, shell soon break free from the painful memories and start her life fresh. of course, she has to get through working with him on one last assignment first. for justin, nothing ever felt as right as being with peyton, and now that fates given him a shot at redemption, hes determined to make the most of it. and for peyton...well, justin carter has always been her kryptonite. ...more']"
      ]
     },
     "execution_count": 8,
     "metadata": {},
     "output_type": "execute_result"
    }
   ],
   "source": [
    "random.choice(clusters)"
   ]
  },
  {
   "cell_type": "markdown",
   "metadata": {},
   "source": [
    "#### Outcomes of Method 1:\n",
    "\n"
   ]
  },
  {
   "cell_type": "markdown",
   "metadata": {},
   "source": [
    "### Method 2: Sentence Embeddings & K-Means Clustering\n",
    "\n",
    "For the second method, unlike the first one, instead of relying on a straight TF-IDF vectorisation, I introduced a sentence transformer. This pre-trained model captures the semantic meaning of sentences, and generally result in better results as it incorporates contextual information."
   ]
  },
  {
   "cell_type": "code",
   "execution_count": 9,
   "metadata": {},
   "outputs": [
    {
     "name": "stderr",
     "output_type": "stream",
     "text": [
      "/Users/wndpzr/GitHub/bookcase/.venv/lib/python3.13/site-packages/tqdm/auto.py:21: TqdmWarning: IProgress not found. Please update jupyter and ipywidgets. See https://ipywidgets.readthedocs.io/en/stable/user_install.html\n",
      "  from .autonotebook import tqdm as notebook_tqdm\n"
     ]
    }
   ],
   "source": [
    "# Import necessary libraries.\n",
    "from sentence_transformers import SentenceTransformer\n",
    "from sklearn.cluster import KMeans"
   ]
  },
  {
   "cell_type": "code",
   "execution_count": 10,
   "metadata": {},
   "outputs": [
    {
     "name": "stderr",
     "output_type": "stream",
     "text": [
      "Batches: 100%|██████████| 32/32 [00:04<00:00,  7.61it/s]\n"
     ]
    }
   ],
   "source": [
    "# Load a pre-trained sentence transformer model.\n",
    "model = SentenceTransformer('all-MiniLM-L6-v2')\n",
    "\n",
    "# Encode the descriptions into embeddings.\n",
    "embeddings = model.encode(descriptions, show_progress_bar=True)"
   ]
  },
  {
   "cell_type": "code",
   "execution_count": 11,
   "metadata": {},
   "outputs": [],
   "source": [
    "# Fit K-Means clustering.\n",
    "n_clusters = len(books) // DIVISION_FACTOR\n",
    "kmeans = KMeans(n_clusters=n_clusters, random_state=RANDOM_SEED)\n",
    "\n",
    "kmeans.fit(embeddings)\n",
    "labels = kmeans.labels_"
   ]
  },
  {
   "cell_type": "code",
   "execution_count": 12,
   "metadata": {},
   "outputs": [],
   "source": [
    "# Group the descriptions by cluster.\n",
    "clusters = {i: [] for i in range(n_clusters)}\n",
    "for desc, label in zip(descriptions, labels):\n",
    "    clusters[label].append(desc)"
   ]
  },
  {
   "cell_type": "code",
   "execution_count": 13,
   "metadata": {},
   "outputs": [
    {
     "data": {
      "text/plain": [
       "['discovered in the attic in which she spent the last years of her life, anne franks remarkable diary has since become a world classica powerful reminder of the horrors of war and an eloquent testament to the human spirit.in 1942, with nazis occupying holland, a thirteenyearold jewish girl and her family fled their home in amsterdam and went into hiding. for the next two discovered in the attic in which she spent the last years of her life, anne franks remarkable diary has since become a world classica powerful reminder of the horrors of war and an eloquent testament to the human spirit.in 1942, with nazis occupying holland, a thirteenyearold jewish girl and her family fled their home in amsterdam and went into hiding. for the next two years, until their whereabouts were betrayed to the gestapo, they and another family lived cloistered in the secret annexe of an old office building. cut off from the outside world, they faced hunger, boredom, the constant cruelties of living in confined quarters, and the everpresent threat of discovery and death.in her diary anne frank recorded vivid impressions of her experiences during this period. by turns thoughtful, moving, and amusing, her account offers a fascinating commentary on human courage and frailty and a compelling selfportrait of a sensitive and spirited young woman whose promise was tragically cut short. ...more',\n",
       " 'inspired by the life of a real world war ii heroine, this debut novel reveals a story of love, redemption, and secrets that were hidden for decades.new york socialite caroline ferriday has her hands full with her post at the french consulate and a new love on the horizon. but carolines world is forever changed when hitlers army invades poland in september 1939and then s inspired by the life of a real world war ii heroine, this debut novel reveals a story of love, redemption, and secrets that were hidden for decades.\\xa0new york socialite caroline ferriday has her hands full with her post at the french consulate and a new love on the horizon. but carolines world is forever changed when hitlers army invades poland in september 1939and then sets its sights on france. \\xa0 an ocean away from caroline, kasia kuzmerick, a polish teenager, senses her carefree youth disappearing as she is drawn deeper into her role as courier for the underground resistance movement. in a tense atmosphere of watchful eyes and suspecting neighbors, one false move can have dire consequences. \\xa0 for the ambitious young german doctor, herta oberheuser, an ad for a government medical position seems her ticket out of a desolate life. once hired, though, she finds herself trapped in a maledominated realm of nazi secrets and power. \\xa0 the lives of these three women are set on a collision course when the unthinkable happens and kasia is sent to ravensbrck, the notorious nazi concentration camp for women. their stories cross continentsfrom new york to paris, germany, and polandas caroline and kasia strive to bring justice to those whom history has forgotten. ...more',\n",
       " 'psychiatrist viktor frankls memoir has riveted generations of readers with its descriptions of life in nazi death camps and its lessons for spiritual survival. between 1942 and 1945, frankl labored in four different camps, including auschwitz, while his parents, brother, and pregnant wife perished. based on his own experience and the experiences of others he treated later psychiatrist viktor frankls memoir has riveted generations of readers with its descriptions of life in nazi death camps and its lessons for spiritual survival. between 1942 and 1945, frankl labored in four different camps, including auschwitz, while his parents, brother, and pregnant wife perished. based on his own experience and the experiences of others he treated later in his practice, frankl argues that we cannot avoid suffering, but we can choose how to cope with it, find meaning in it, and move forward with renewed purpose. frankls theoryknown as logotherapy, from the greek word logos meaningholds that our primary drive in life is not pleasure, as freud maintained, but the discovery and pursuit of what we personally find meaningful.at the time of frankls death in 1997, mans search for meaning had sold more than 10 million copies in twentyfour languages. a 1991 reader survey for the library of congress that asked readers to name a book that made a difference in your life found mans search for meaning among the ten most influential books in america. ...more',\n",
       " 'at one time corrie ten boom would have laughed at the idea that there would ever be a story to tell. for the first fifty years of her life nothing at all out of the ordinary had ever happened to her. she was an oldmaid watchmaker living contentedly with her spinster sister and their elderly father in the tiny dutch house over their shop. their uneventful days, as regulate at one time corrie ten boom would have laughed at the idea that there would ever be a story to tell. for the first fifty years of her life nothing at all out of the ordinary had ever happened to her. she was an oldmaid watchmaker living contentedly with her spinster sister and their elderly father in the tiny dutch house over their shop. their uneventful days, as regulated as their own watches, revolved around their abiding love for one another. however, with the nazi invasion and occupation of holland, a story did ensue. corrie ten boom and her family became leaders in the dutch underground, hiding jewish people in their home in a specially built room and aiding their escape from the nazis. for their help, all but corrie found death in a concentration camp. the hiding place is their story. ...more',\n",
       " 'its just a small story really, about among other things a girl, some words, an accordionist, some fanatical germans, a jewish fistfighter, and quite a lot of thievery. . . .set during world war ii in germany, markus zusaks groundbreaking new novel is the story of liesel meminger, a foster girl living outside of munich. liesel scratches out a meager existence for hersel its just a small story really, about among other things a girl, some words, an accordionist, some fanatical germans, a jewish fistfighter, and quite a lot of thievery. . . .set during world war ii in germany, markus zusaks groundbreaking new novel is the story of liesel meminger, a foster girl living outside of munich. liesel scratches out a meager existence for herself by stealing when she encounters something she cant resistbooks. with the help of her accordionplaying foster father, she learns to read and shares her stolen books with her neighbors during bombing raids as well as with the jewish man hidden in her basement before he is marched to dachau.this is an unforgettable story about the ability of books to feed the soul. ...more',\n",
       " 'night is a work by elie wiesel about his experience with his father in the nazi german concentration camps at auschwitz and buchenwald in 19441945, at the height of the holocaust and toward the end of the second world war. in just over 100 pages of sparse and fragmented narrative, wiesel writes about the death of god and his own increasing disgust with humanity, reflected night is a work by elie wiesel about his experience with his father in the nazi german concentration camps at auschwitz and buchenwald in 19441945, at the height of the holocaust and toward the end of the second world war. in just over 100 pages of sparse and fragmented narrative, wiesel writes about the death of god and his own increasing disgust with humanity, reflected in the inversion of the fatherchild relationship as his father declines to a helpless state and wiesel becomes his resentful teenage caregiver.penetrating and powerful, as personal as the diary of anne frank, night awakens the shocking memory of evil at its absolute and carries with it the unforgettable message that this horror must never be allowed to happen again. ...more',\n",
       " 'the time is 1933, the place, berlin, when william e. dodd becomes americas first ambassador to hitlers germany in a year that proved to be a turning point in history.a mildmannered professor from chicago, dodd brings along his wife, son, and flamboyant daughter, martha. at first martha is entranced by the parties and pomp, and the handsome young men of the third reich w the time is 1933, the place, berlin, when william e. dodd becomes americas first ambassador to hitlers germany in a year that proved to be a turning point in history.\\xa0a mildmannered professor from chicago, dodd brings along his wife, son, and flamboyant daughter, martha. at first martha is entranced by the parties and pomp, and the handsome young men of the third reich with their infectious enthusiasm for restoring germany to a position of world prominence. enamored of the new germany, she has one affair after another, including with the suprisingly honorable first chief of the gestapo, rudolf diels. but as evidence of jewish persecution mounts, confirmed by chilling firstperson testimony, her father telegraphs his concerns to a largely indifferent state department back home. dodd watches with alarm as jews are attacked, the press is censored, and drafts of frightening new laws begin to circulate. as that first year unfolds and the shadows deepen, the dodds experience days full of excitement, intrigue, romanceand ultimately, horror, when a climactic spasm of violence and murder reveals hitlers true character and ruthless ambition.\\xa0suffused with the tense atmosphere of the period, and with unforgettable portraits of the bizarre gring and the expectedly charmingyet wholly sinistergoebbels, in the garden of beasts lends a stunning, eyewitness perspective on events as they unfold in real time, revealing an era of surprising nuance and complexity. the result is a dazzling, addictively readable work that speaks volumes about why the world did not recognize the grave threat posed by hitler until berlin, and europe, were awash in blood and terror. ...more',\n",
       " 'amsterdam, 1943. hanneke spends her days finding and delivering soughtafter black market goods to paying customers, nights hiding the true nature of her work from her concerned parents, and every waking moment mourning her boyfriend, who was killed on the dutch front lines when the german army invaded. her illegal work keeps her family afloat, and hanneke also likes to th amsterdam, 1943. hanneke spends her days finding and delivering soughtafter black market goods to paying customers, nights hiding the true nature of her work from her concerned parents, and every waking moment mourning her boyfriend, who was killed on the dutch front lines when the german army invaded. her illegal work keeps her family afloat, and hanneke also likes to think of it as a small act of rebellion against the nazis.on a routine delivery, a client asks hanneke for help. expecting to hear that mrs. janssen wants meat or kerosene, hanneke is shocked by the older womans frantic plea to find a person a jewish teenager mrs. janssen had been hiding, who has vanished without a trace from a secret room. hanneke initially wants nothing to do with such a dangerous task but is ultimately drawn into a web of mysteries and stunning revelationswhere the only way out is through.beautifully written, intricately plotted, and meticulously researched, girl in the blue coat is an extraordinary, unforgettable story of bravery, grief, and love in impossible times. ...more']"
      ]
     },
     "execution_count": 13,
     "metadata": {},
     "output_type": "execute_result"
    }
   ],
   "source": [
    "random.choice(clusters)"
   ]
  },
  {
   "cell_type": "markdown",
   "metadata": {},
   "source": [
    "#### Outcomes of Method 2:\n",
    "\n",
    "This method actually seems to have worked well. The resulting clusters are in the same topic *(for the first case: WW2)* and meaningful. Also considering the easiness of K-Menans, sentence embeddings proved to be a useful concept."
   ]
  },
  {
   "cell_type": "markdown",
   "metadata": {},
   "source": [
    "### Method 3: Topic Modeling using Latent Dirichlet Allocation (LDA)\n",
    "\n",
    "To understand the underlying meanings instead of word analyses, I used LDA topic modeling in the third method."
   ]
  },
  {
   "cell_type": "code",
   "execution_count": 14,
   "metadata": {},
   "outputs": [],
   "source": [
    "# Import necessary libraries.\n",
    "from sklearn.decomposition import LatentDirichletAllocation\n",
    "from sklearn.feature_extraction.text import CountVectorizer"
   ]
  },
  {
   "cell_type": "code",
   "execution_count": 15,
   "metadata": {},
   "outputs": [],
   "source": [
    "# Convert descriptions to document-term matrix.\n",
    "vectorizer = CountVectorizer(stop_words='english')\n",
    "dtm = vectorizer.fit_transform(descriptions)"
   ]
  },
  {
   "cell_type": "code",
   "execution_count": 16,
   "metadata": {},
   "outputs": [
    {
     "data": {
      "text/html": [
       "<style>#sk-container-id-1 {\n",
       "  /* Definition of color scheme common for light and dark mode */\n",
       "  --sklearn-color-text: #000;\n",
       "  --sklearn-color-text-muted: #666;\n",
       "  --sklearn-color-line: gray;\n",
       "  /* Definition of color scheme for unfitted estimators */\n",
       "  --sklearn-color-unfitted-level-0: #fff5e6;\n",
       "  --sklearn-color-unfitted-level-1: #f6e4d2;\n",
       "  --sklearn-color-unfitted-level-2: #ffe0b3;\n",
       "  --sklearn-color-unfitted-level-3: chocolate;\n",
       "  /* Definition of color scheme for fitted estimators */\n",
       "  --sklearn-color-fitted-level-0: #f0f8ff;\n",
       "  --sklearn-color-fitted-level-1: #d4ebff;\n",
       "  --sklearn-color-fitted-level-2: #b3dbfd;\n",
       "  --sklearn-color-fitted-level-3: cornflowerblue;\n",
       "\n",
       "  /* Specific color for light theme */\n",
       "  --sklearn-color-text-on-default-background: var(--sg-text-color, var(--theme-code-foreground, var(--jp-content-font-color1, black)));\n",
       "  --sklearn-color-background: var(--sg-background-color, var(--theme-background, var(--jp-layout-color0, white)));\n",
       "  --sklearn-color-border-box: var(--sg-text-color, var(--theme-code-foreground, var(--jp-content-font-color1, black)));\n",
       "  --sklearn-color-icon: #696969;\n",
       "\n",
       "  @media (prefers-color-scheme: dark) {\n",
       "    /* Redefinition of color scheme for dark theme */\n",
       "    --sklearn-color-text-on-default-background: var(--sg-text-color, var(--theme-code-foreground, var(--jp-content-font-color1, white)));\n",
       "    --sklearn-color-background: var(--sg-background-color, var(--theme-background, var(--jp-layout-color0, #111)));\n",
       "    --sklearn-color-border-box: var(--sg-text-color, var(--theme-code-foreground, var(--jp-content-font-color1, white)));\n",
       "    --sklearn-color-icon: #878787;\n",
       "  }\n",
       "}\n",
       "\n",
       "#sk-container-id-1 {\n",
       "  color: var(--sklearn-color-text);\n",
       "}\n",
       "\n",
       "#sk-container-id-1 pre {\n",
       "  padding: 0;\n",
       "}\n",
       "\n",
       "#sk-container-id-1 input.sk-hidden--visually {\n",
       "  border: 0;\n",
       "  clip: rect(1px 1px 1px 1px);\n",
       "  clip: rect(1px, 1px, 1px, 1px);\n",
       "  height: 1px;\n",
       "  margin: -1px;\n",
       "  overflow: hidden;\n",
       "  padding: 0;\n",
       "  position: absolute;\n",
       "  width: 1px;\n",
       "}\n",
       "\n",
       "#sk-container-id-1 div.sk-dashed-wrapped {\n",
       "  border: 1px dashed var(--sklearn-color-line);\n",
       "  margin: 0 0.4em 0.5em 0.4em;\n",
       "  box-sizing: border-box;\n",
       "  padding-bottom: 0.4em;\n",
       "  background-color: var(--sklearn-color-background);\n",
       "}\n",
       "\n",
       "#sk-container-id-1 div.sk-container {\n",
       "  /* jupyter's `normalize.less` sets `[hidden] { display: none; }`\n",
       "     but bootstrap.min.css set `[hidden] { display: none !important; }`\n",
       "     so we also need the `!important` here to be able to override the\n",
       "     default hidden behavior on the sphinx rendered scikit-learn.org.\n",
       "     See: https://github.com/scikit-learn/scikit-learn/issues/21755 */\n",
       "  display: inline-block !important;\n",
       "  position: relative;\n",
       "}\n",
       "\n",
       "#sk-container-id-1 div.sk-text-repr-fallback {\n",
       "  display: none;\n",
       "}\n",
       "\n",
       "div.sk-parallel-item,\n",
       "div.sk-serial,\n",
       "div.sk-item {\n",
       "  /* draw centered vertical line to link estimators */\n",
       "  background-image: linear-gradient(var(--sklearn-color-text-on-default-background), var(--sklearn-color-text-on-default-background));\n",
       "  background-size: 2px 100%;\n",
       "  background-repeat: no-repeat;\n",
       "  background-position: center center;\n",
       "}\n",
       "\n",
       "/* Parallel-specific style estimator block */\n",
       "\n",
       "#sk-container-id-1 div.sk-parallel-item::after {\n",
       "  content: \"\";\n",
       "  width: 100%;\n",
       "  border-bottom: 2px solid var(--sklearn-color-text-on-default-background);\n",
       "  flex-grow: 1;\n",
       "}\n",
       "\n",
       "#sk-container-id-1 div.sk-parallel {\n",
       "  display: flex;\n",
       "  align-items: stretch;\n",
       "  justify-content: center;\n",
       "  background-color: var(--sklearn-color-background);\n",
       "  position: relative;\n",
       "}\n",
       "\n",
       "#sk-container-id-1 div.sk-parallel-item {\n",
       "  display: flex;\n",
       "  flex-direction: column;\n",
       "}\n",
       "\n",
       "#sk-container-id-1 div.sk-parallel-item:first-child::after {\n",
       "  align-self: flex-end;\n",
       "  width: 50%;\n",
       "}\n",
       "\n",
       "#sk-container-id-1 div.sk-parallel-item:last-child::after {\n",
       "  align-self: flex-start;\n",
       "  width: 50%;\n",
       "}\n",
       "\n",
       "#sk-container-id-1 div.sk-parallel-item:only-child::after {\n",
       "  width: 0;\n",
       "}\n",
       "\n",
       "/* Serial-specific style estimator block */\n",
       "\n",
       "#sk-container-id-1 div.sk-serial {\n",
       "  display: flex;\n",
       "  flex-direction: column;\n",
       "  align-items: center;\n",
       "  background-color: var(--sklearn-color-background);\n",
       "  padding-right: 1em;\n",
       "  padding-left: 1em;\n",
       "}\n",
       "\n",
       "\n",
       "/* Toggleable style: style used for estimator/Pipeline/ColumnTransformer box that is\n",
       "clickable and can be expanded/collapsed.\n",
       "- Pipeline and ColumnTransformer use this feature and define the default style\n",
       "- Estimators will overwrite some part of the style using the `sk-estimator` class\n",
       "*/\n",
       "\n",
       "/* Pipeline and ColumnTransformer style (default) */\n",
       "\n",
       "#sk-container-id-1 div.sk-toggleable {\n",
       "  /* Default theme specific background. It is overwritten whether we have a\n",
       "  specific estimator or a Pipeline/ColumnTransformer */\n",
       "  background-color: var(--sklearn-color-background);\n",
       "}\n",
       "\n",
       "/* Toggleable label */\n",
       "#sk-container-id-1 label.sk-toggleable__label {\n",
       "  cursor: pointer;\n",
       "  display: flex;\n",
       "  width: 100%;\n",
       "  margin-bottom: 0;\n",
       "  padding: 0.5em;\n",
       "  box-sizing: border-box;\n",
       "  text-align: center;\n",
       "  align-items: start;\n",
       "  justify-content: space-between;\n",
       "  gap: 0.5em;\n",
       "}\n",
       "\n",
       "#sk-container-id-1 label.sk-toggleable__label .caption {\n",
       "  font-size: 0.6rem;\n",
       "  font-weight: lighter;\n",
       "  color: var(--sklearn-color-text-muted);\n",
       "}\n",
       "\n",
       "#sk-container-id-1 label.sk-toggleable__label-arrow:before {\n",
       "  /* Arrow on the left of the label */\n",
       "  content: \"▸\";\n",
       "  float: left;\n",
       "  margin-right: 0.25em;\n",
       "  color: var(--sklearn-color-icon);\n",
       "}\n",
       "\n",
       "#sk-container-id-1 label.sk-toggleable__label-arrow:hover:before {\n",
       "  color: var(--sklearn-color-text);\n",
       "}\n",
       "\n",
       "/* Toggleable content - dropdown */\n",
       "\n",
       "#sk-container-id-1 div.sk-toggleable__content {\n",
       "  max-height: 0;\n",
       "  max-width: 0;\n",
       "  overflow: hidden;\n",
       "  text-align: left;\n",
       "  /* unfitted */\n",
       "  background-color: var(--sklearn-color-unfitted-level-0);\n",
       "}\n",
       "\n",
       "#sk-container-id-1 div.sk-toggleable__content.fitted {\n",
       "  /* fitted */\n",
       "  background-color: var(--sklearn-color-fitted-level-0);\n",
       "}\n",
       "\n",
       "#sk-container-id-1 div.sk-toggleable__content pre {\n",
       "  margin: 0.2em;\n",
       "  border-radius: 0.25em;\n",
       "  color: var(--sklearn-color-text);\n",
       "  /* unfitted */\n",
       "  background-color: var(--sklearn-color-unfitted-level-0);\n",
       "}\n",
       "\n",
       "#sk-container-id-1 div.sk-toggleable__content.fitted pre {\n",
       "  /* unfitted */\n",
       "  background-color: var(--sklearn-color-fitted-level-0);\n",
       "}\n",
       "\n",
       "#sk-container-id-1 input.sk-toggleable__control:checked~div.sk-toggleable__content {\n",
       "  /* Expand drop-down */\n",
       "  max-height: 200px;\n",
       "  max-width: 100%;\n",
       "  overflow: auto;\n",
       "}\n",
       "\n",
       "#sk-container-id-1 input.sk-toggleable__control:checked~label.sk-toggleable__label-arrow:before {\n",
       "  content: \"▾\";\n",
       "}\n",
       "\n",
       "/* Pipeline/ColumnTransformer-specific style */\n",
       "\n",
       "#sk-container-id-1 div.sk-label input.sk-toggleable__control:checked~label.sk-toggleable__label {\n",
       "  color: var(--sklearn-color-text);\n",
       "  background-color: var(--sklearn-color-unfitted-level-2);\n",
       "}\n",
       "\n",
       "#sk-container-id-1 div.sk-label.fitted input.sk-toggleable__control:checked~label.sk-toggleable__label {\n",
       "  background-color: var(--sklearn-color-fitted-level-2);\n",
       "}\n",
       "\n",
       "/* Estimator-specific style */\n",
       "\n",
       "/* Colorize estimator box */\n",
       "#sk-container-id-1 div.sk-estimator input.sk-toggleable__control:checked~label.sk-toggleable__label {\n",
       "  /* unfitted */\n",
       "  background-color: var(--sklearn-color-unfitted-level-2);\n",
       "}\n",
       "\n",
       "#sk-container-id-1 div.sk-estimator.fitted input.sk-toggleable__control:checked~label.sk-toggleable__label {\n",
       "  /* fitted */\n",
       "  background-color: var(--sklearn-color-fitted-level-2);\n",
       "}\n",
       "\n",
       "#sk-container-id-1 div.sk-label label.sk-toggleable__label,\n",
       "#sk-container-id-1 div.sk-label label {\n",
       "  /* The background is the default theme color */\n",
       "  color: var(--sklearn-color-text-on-default-background);\n",
       "}\n",
       "\n",
       "/* On hover, darken the color of the background */\n",
       "#sk-container-id-1 div.sk-label:hover label.sk-toggleable__label {\n",
       "  color: var(--sklearn-color-text);\n",
       "  background-color: var(--sklearn-color-unfitted-level-2);\n",
       "}\n",
       "\n",
       "/* Label box, darken color on hover, fitted */\n",
       "#sk-container-id-1 div.sk-label.fitted:hover label.sk-toggleable__label.fitted {\n",
       "  color: var(--sklearn-color-text);\n",
       "  background-color: var(--sklearn-color-fitted-level-2);\n",
       "}\n",
       "\n",
       "/* Estimator label */\n",
       "\n",
       "#sk-container-id-1 div.sk-label label {\n",
       "  font-family: monospace;\n",
       "  font-weight: bold;\n",
       "  display: inline-block;\n",
       "  line-height: 1.2em;\n",
       "}\n",
       "\n",
       "#sk-container-id-1 div.sk-label-container {\n",
       "  text-align: center;\n",
       "}\n",
       "\n",
       "/* Estimator-specific */\n",
       "#sk-container-id-1 div.sk-estimator {\n",
       "  font-family: monospace;\n",
       "  border: 1px dotted var(--sklearn-color-border-box);\n",
       "  border-radius: 0.25em;\n",
       "  box-sizing: border-box;\n",
       "  margin-bottom: 0.5em;\n",
       "  /* unfitted */\n",
       "  background-color: var(--sklearn-color-unfitted-level-0);\n",
       "}\n",
       "\n",
       "#sk-container-id-1 div.sk-estimator.fitted {\n",
       "  /* fitted */\n",
       "  background-color: var(--sklearn-color-fitted-level-0);\n",
       "}\n",
       "\n",
       "/* on hover */\n",
       "#sk-container-id-1 div.sk-estimator:hover {\n",
       "  /* unfitted */\n",
       "  background-color: var(--sklearn-color-unfitted-level-2);\n",
       "}\n",
       "\n",
       "#sk-container-id-1 div.sk-estimator.fitted:hover {\n",
       "  /* fitted */\n",
       "  background-color: var(--sklearn-color-fitted-level-2);\n",
       "}\n",
       "\n",
       "/* Specification for estimator info (e.g. \"i\" and \"?\") */\n",
       "\n",
       "/* Common style for \"i\" and \"?\" */\n",
       "\n",
       ".sk-estimator-doc-link,\n",
       "a:link.sk-estimator-doc-link,\n",
       "a:visited.sk-estimator-doc-link {\n",
       "  float: right;\n",
       "  font-size: smaller;\n",
       "  line-height: 1em;\n",
       "  font-family: monospace;\n",
       "  background-color: var(--sklearn-color-background);\n",
       "  border-radius: 1em;\n",
       "  height: 1em;\n",
       "  width: 1em;\n",
       "  text-decoration: none !important;\n",
       "  margin-left: 0.5em;\n",
       "  text-align: center;\n",
       "  /* unfitted */\n",
       "  border: var(--sklearn-color-unfitted-level-1) 1pt solid;\n",
       "  color: var(--sklearn-color-unfitted-level-1);\n",
       "}\n",
       "\n",
       ".sk-estimator-doc-link.fitted,\n",
       "a:link.sk-estimator-doc-link.fitted,\n",
       "a:visited.sk-estimator-doc-link.fitted {\n",
       "  /* fitted */\n",
       "  border: var(--sklearn-color-fitted-level-1) 1pt solid;\n",
       "  color: var(--sklearn-color-fitted-level-1);\n",
       "}\n",
       "\n",
       "/* On hover */\n",
       "div.sk-estimator:hover .sk-estimator-doc-link:hover,\n",
       ".sk-estimator-doc-link:hover,\n",
       "div.sk-label-container:hover .sk-estimator-doc-link:hover,\n",
       ".sk-estimator-doc-link:hover {\n",
       "  /* unfitted */\n",
       "  background-color: var(--sklearn-color-unfitted-level-3);\n",
       "  color: var(--sklearn-color-background);\n",
       "  text-decoration: none;\n",
       "}\n",
       "\n",
       "div.sk-estimator.fitted:hover .sk-estimator-doc-link.fitted:hover,\n",
       ".sk-estimator-doc-link.fitted:hover,\n",
       "div.sk-label-container:hover .sk-estimator-doc-link.fitted:hover,\n",
       ".sk-estimator-doc-link.fitted:hover {\n",
       "  /* fitted */\n",
       "  background-color: var(--sklearn-color-fitted-level-3);\n",
       "  color: var(--sklearn-color-background);\n",
       "  text-decoration: none;\n",
       "}\n",
       "\n",
       "/* Span, style for the box shown on hovering the info icon */\n",
       ".sk-estimator-doc-link span {\n",
       "  display: none;\n",
       "  z-index: 9999;\n",
       "  position: relative;\n",
       "  font-weight: normal;\n",
       "  right: .2ex;\n",
       "  padding: .5ex;\n",
       "  margin: .5ex;\n",
       "  width: min-content;\n",
       "  min-width: 20ex;\n",
       "  max-width: 50ex;\n",
       "  color: var(--sklearn-color-text);\n",
       "  box-shadow: 2pt 2pt 4pt #999;\n",
       "  /* unfitted */\n",
       "  background: var(--sklearn-color-unfitted-level-0);\n",
       "  border: .5pt solid var(--sklearn-color-unfitted-level-3);\n",
       "}\n",
       "\n",
       ".sk-estimator-doc-link.fitted span {\n",
       "  /* fitted */\n",
       "  background: var(--sklearn-color-fitted-level-0);\n",
       "  border: var(--sklearn-color-fitted-level-3);\n",
       "}\n",
       "\n",
       ".sk-estimator-doc-link:hover span {\n",
       "  display: block;\n",
       "}\n",
       "\n",
       "/* \"?\"-specific style due to the `<a>` HTML tag */\n",
       "\n",
       "#sk-container-id-1 a.estimator_doc_link {\n",
       "  float: right;\n",
       "  font-size: 1rem;\n",
       "  line-height: 1em;\n",
       "  font-family: monospace;\n",
       "  background-color: var(--sklearn-color-background);\n",
       "  border-radius: 1rem;\n",
       "  height: 1rem;\n",
       "  width: 1rem;\n",
       "  text-decoration: none;\n",
       "  /* unfitted */\n",
       "  color: var(--sklearn-color-unfitted-level-1);\n",
       "  border: var(--sklearn-color-unfitted-level-1) 1pt solid;\n",
       "}\n",
       "\n",
       "#sk-container-id-1 a.estimator_doc_link.fitted {\n",
       "  /* fitted */\n",
       "  border: var(--sklearn-color-fitted-level-1) 1pt solid;\n",
       "  color: var(--sklearn-color-fitted-level-1);\n",
       "}\n",
       "\n",
       "/* On hover */\n",
       "#sk-container-id-1 a.estimator_doc_link:hover {\n",
       "  /* unfitted */\n",
       "  background-color: var(--sklearn-color-unfitted-level-3);\n",
       "  color: var(--sklearn-color-background);\n",
       "  text-decoration: none;\n",
       "}\n",
       "\n",
       "#sk-container-id-1 a.estimator_doc_link.fitted:hover {\n",
       "  /* fitted */\n",
       "  background-color: var(--sklearn-color-fitted-level-3);\n",
       "}\n",
       "</style><div id=\"sk-container-id-1\" class=\"sk-top-container\"><div class=\"sk-text-repr-fallback\"><pre>LatentDirichletAllocation(n_components=100, random_state=1984)</pre><b>In a Jupyter environment, please rerun this cell to show the HTML representation or trust the notebook. <br />On GitHub, the HTML representation is unable to render, please try loading this page with nbviewer.org.</b></div><div class=\"sk-container\" hidden><div class=\"sk-item\"><div class=\"sk-estimator fitted sk-toggleable\"><input class=\"sk-toggleable__control sk-hidden--visually\" id=\"sk-estimator-id-1\" type=\"checkbox\" checked><label for=\"sk-estimator-id-1\" class=\"sk-toggleable__label fitted sk-toggleable__label-arrow\"><div><div>LatentDirichletAllocation</div></div><div><a class=\"sk-estimator-doc-link fitted\" rel=\"noreferrer\" target=\"_blank\" href=\"https://scikit-learn.org/1.6/modules/generated/sklearn.decomposition.LatentDirichletAllocation.html\">?<span>Documentation for LatentDirichletAllocation</span></a><span class=\"sk-estimator-doc-link fitted\">i<span>Fitted</span></span></div></label><div class=\"sk-toggleable__content fitted\"><pre>LatentDirichletAllocation(n_components=100, random_state=1984)</pre></div> </div></div></div></div>"
      ],
      "text/plain": [
       "LatentDirichletAllocation(n_components=100, random_state=1984)"
      ]
     },
     "execution_count": 16,
     "metadata": {},
     "output_type": "execute_result"
    }
   ],
   "source": [
    "# Fit the LDA model.\n",
    "n_components = len(books) // DIVISION_FACTOR\n",
    "lda = LatentDirichletAllocation(n_components=n_components, random_state=RANDOM_SEED)\n",
    "lda.fit(dtm)"
   ]
  },
  {
   "cell_type": "code",
   "execution_count": 17,
   "metadata": {},
   "outputs": [],
   "source": [
    "# Get the topic distribution for each description.\n",
    "topic_distribution = lda.transform(dtm)\n",
    "\n",
    "# Assign each description to the topic with the highest probability.\n",
    "labels = topic_distribution.argmax(axis=1)"
   ]
  },
  {
   "cell_type": "code",
   "execution_count": 18,
   "metadata": {},
   "outputs": [],
   "source": [
    "# Group the descriptions by cluster.\n",
    "clusters = {i: [] for i in range(n_components)}\n",
    "for desc, label in zip(descriptions, labels):\n",
    "    clusters[label].append(desc)"
   ]
  },
  {
   "cell_type": "code",
   "execution_count": 19,
   "metadata": {},
   "outputs": [
    {
     "data": {
      "text/plain": [
       "['everyone knows the legends about the cursed girlisabel, the one the seoras whisper about. they say she has green skin and grass for hair, and she feeds on the poisonous plants that fill her familys caribbean island garden. some say she can grant wishes some say her touch can kill.seventeenyearold lucas lives on the mainland most of the year but spends summers with h everyone knows the legends about the cursed girlisabel, the one the seoras whisper about. they say she has green skin and grass for hair, and she feeds on the poisonous plants that fill her familys caribbean island garden. some say she can grant wishes some say her touch can kill.seventeenyearold lucas lives on the mainland most of the year but spends summers with his hoteldeveloper father in puerto rico. hes grown up hearing stories about the cursed girl, and he wants to believe in isabel and her magic. when letters from isabel begin mysteriously appearing in his room the same day his new girlfriend disappears, lucas turns to isabel for answersand finds himself lured into her strange and enchanted world. but time is running out for the girl filled with poison, and the more entangled lucas becomes with isabel, the less certain he is of escaping with his own life. ...more',\n",
       " 'twins alex and aaron stowe are put to the ultimate test to fulfill their destinies and save both quill and artim from the deadliest enemy the cities have ever faced in the thrilling conclusion of the new york times bestselling unwanteds series, which kirkus reviews called the hunger games meets harry potter. head mage alexander stowe and his friends successfully fended twins alex and aaron stowe are put to the ultimate test to fulfill their destinies and save both quill and artim from the deadliest enemy the cities have ever faced in the thrilling conclusion of the new york times bestselling unwanteds series, which kirkus reviews called the hunger games meets harry potter. head mage alexander stowe and his friends successfully fended off the latest threat to their magical world of artim with the help of a surprise ally. but old enemies have secretly been plotting against them. now alex must lead his people in a final epic battle, one they cant hope to win alone. will artim finally know peace or will all theyve fought for be destroyed forever?  see more at httpbooks.simonandschuster.co.uki... ...more',\n",
       " 'this is a book about making art. ordinary art. ordinary art means something like all art not made by mozart. after all, art is rarely made by mozartlike people essentiallystatistically speakingthere arent any people like that. geniuses get made onceacentury or so, yet good art gets made all the time, so to equate the making of art with the workings of genius remov this is a book about making art. ordinary art. ordinary art means something like all art not made by mozart. after all, art is rarely made by mozartlike people essentiallystatistically speakingthere arent any people like that. geniuses get made onceacentury or so, yet good art gets made all the time, so to equate the making of art with the workings of genius removes this intimately human activity to a strangely unreachable and unknowable place. for all practical purposes making art can be examined in great detail without ever getting entangled in the very remote problems of genius.from the introductionart  fear explores the way art gets made, the reasons it often doesnt get made, and the nature of the difficulties that cause so many artists to give up along the way. the books coauthors, david bayles and ted orland, are themselves both working artists, grappling daily with the problems of making art in the real world. their insights and observations, drawn from personal experience, provide an incisive view into the world of art as it is expeienced by artmakers themselves.this is not your typical selfhelp book. this is a book written by artists, for artists  its about what it feels like when artists sit down at their easel or keyboard, in their studio or performance space, trying to do the work they need to do. first published in 1994, art  fear quickly became an underground classic. wordofmouth response alonenow enhanced by internet postinghas placed it among the bestselling books on artmaking and creativity nationally.art  fear has attracted a remarkably diverse audience, ranging from beginning to accomplished artists in every medium, and including an exceptional concentration among students and teachers. the original capra press edition of art  fear sold 80,000 copies.an excerpttoday, more than it was however many years ago, art is hard because you have to keep after it so consistently. on so many different fronts. for so little external reward. artists become veteran artists only by making peace not just with themselves, but with a huge range of issues. you have to find your work... ...more',\n",
       " 'in this graphic memoir, alison bechdel charts her fraught relationship with her late father.distant and exacting, bruce bechdel was an english teacher and director of the town funeral home, which alison and her family referred to as the fun home. it was not until college that alison, who had recently come out as a lesbian, discovered that her father was also gay. a few wee in this graphic memoir, alison bechdel charts her fraught relationship with her late father.distant and exacting, bruce bechdel was an english teacher and director of the town funeral home, which alison and her family referred to as the fun home. it was not until college that alison, who had recently come out as a lesbian, discovered that her father was also gay. a few weeks after this revelation, he was dead, leaving a legacy of mystery for his daughter to resolve. ...more',\n",
       " '1 new york times bestseller harlan coben delivers his next impossibletoputdown thriller. in the course of eight consecutive 1 new york times bestsellers, millions of readers have discovered harlan cobens pageturning thrillers, filled with his trademark edgeofyourseat suspense and gutwrenching emotion. in fool me once, coben once again outdoes himself. former 1 new york times bestseller harlan coben delivers his next impossibletoputdown thriller. \\xa0 in the course of eight consecutive 1 new york times bestsellers, millions of readers have discovered harlan cobens pageturning thrillers, filled with his trademark edgeofyourseat suspense and gutwrenching emotion. in fool me once, coben once again outdoes himself. \\xa0 former special ops pilot maya, home from the war, sees an unthinkable image captured by her nanny cam while she is at work her twoyearold daughter playing with mayas husband, joewho had been brutally murdered two weeks earlier. the provocative question at the heart of the mystery can you believe everything you see with your own eyes, even when you desperately want to? to find the answer, maya must finally come to terms with deep secrets and deceit in her own past before she can face the unbelievable truth about her husbandand herself. ...more',\n",
       " 'how can we make intelligent decisions about our increasingly technologydriven lives if we dont understand the difference between the myths of pseudoscience and the testable hypotheses of science? pulitzer prizewinning author and distinguished astronomer carl sagan argues that scientific thinking is critical not only to the pursuit of truth but to the very wellbeing of how can we make intelligent decisions about our increasingly technologydriven lives if we dont understand the difference between the myths of pseudoscience and the testable hypotheses of science? pulitzer prizewinning author and distinguished astronomer carl sagan argues that scientific thinking is critical not only to the pursuit of truth but to the very wellbeing of our democratic institutions.casting a wide net through history and culture, sagan examines and authoritatively debunks such celebrated fallacies of the past as witchcraft, faith healing, demons, and ufos. and yet, disturbingly, in todays socalled information age, pseudoscience is burgeoning with stories of alien abduction, channeling past lives, and communal hallucinations commanding growing attention and respect. as sagan demonstrates with lucid eloquence, the siren song of unreason is not just a cultural wrong turn but a dangerous plunge into darkness that threatens our most basic freedoms. ...more',\n",
       " 'the second book in the bestselling legend trilogy comes to life in this vibrant graphic novel adaptation.after escaping from the republics stronghold, day and june are on the run in vegas when the country learns that their elector primo has died and his son has stepped in to take his place. they meet up with the rebel stronghold of the patriotsa large organization strad the second book in the bestselling legend trilogy comes to life in this vibrant graphic novel adaptation.after escaping from the republics stronghold, day and june are on the run in vegas when the country learns that their elector primo has died and his son has stepped in to take his place. they meet up with the rebel stronghold of the patriotsa large organization straddling the line between the republic and its warring neighbor, the coloniesand learn about an assassination plot against the elector. using threats and blackmail to get what he wants, the patriots leader, razor, convinces june to let herself be captured by republic soldiers so she can win over the elector and feed him a decoy assassination plan. but when june realizes that the new elector is nothing like his father, she must work with day to try to stop the patriots plot before razor can fulfill his own devastating plans. ...more',\n",
       " 'first in a new series from bestselling author and famed o. j. simpson trial prosecutor marcia clark, a terrific writer and storyteller james patterson. samantha brinkman, an ambitious, hardcharging los angeles criminal defense attorney, is struggling to make a name for herself and to drag her fledgling practice into the big leagues. sam lands a highprofile doublemu first in a new series from bestselling author and famed o. j. simpson trial prosecutor marcia clark, a terrific writer and storyteller james patterson. samantha brinkman, an ambitious, hardcharging los angeles criminal defense attorney, is struggling to make a name for herself and to drag her fledgling practice into the big leagues. sam lands a highprofile doublemurder case in which one of the victims is a beloved tv starand the defendant is a decorated veteran lapd detective. it promises to be exactly the kind of media sensation that would establish her as a heavy hitter in the world of criminal law.though sam has doubts about his innocence, she and her two associates her closest childhood friend and a brilliant excon take the case. notorious for living by her own rulesand fearlessly breaking everyone elsessamantha pulls out all the stops in her quest to uncover evidence that will clear the detective. but when a shocking secret at the core of the case shatters her personal world, sam realizes that not only has her client been playing her, he might be one of the most dangerous sociopaths shes ever encountered. ...more']"
      ]
     },
     "execution_count": 19,
     "metadata": {},
     "output_type": "execute_result"
    }
   ],
   "source": [
    "random.choice(clusters)"
   ]
  },
  {
   "cell_type": "markdown",
   "metadata": {},
   "source": [
    "#### Outcomes of Method 3:\n",
    "\n",
    "This time, a generalisation doesn't seem to be have made. Random clusters I've checked return unrelated descriptions. Topic Modeling here did not help with clustering. There are no clear patterns, no coherence."
   ]
  },
  {
   "cell_type": "markdown",
   "metadata": {},
   "source": [
    "### Method 4: HDBSCAN\n",
    "\n",
    "For the fourth method, I have tried using modern vector embeddings along with a density‐based clustering algorithm (HDBSCAN), which automatically determines the number of clusters."
   ]
  },
  {
   "cell_type": "code",
   "execution_count": 20,
   "metadata": {},
   "outputs": [],
   "source": [
    "# Import libraries for HDBSCAN.\n",
    "from sentence_transformers import SentenceTransformer\n",
    "import hdbscan"
   ]
  },
  {
   "cell_type": "code",
   "execution_count": 43,
   "metadata": {},
   "outputs": [
    {
     "name": "stderr",
     "output_type": "stream",
     "text": [
      "Batches: 100%|██████████| 32/32 [00:04<00:00,  7.98it/s]\n"
     ]
    }
   ],
   "source": [
    "# Generate embeddings for the descriptions.\n",
    "model = SentenceTransformer('all-MiniLM-L6-v2')\n",
    "embeddings = model.encode(descriptions, show_progress_bar=True)"
   ]
  },
  {
   "cell_type": "code",
   "execution_count": 50,
   "metadata": {},
   "outputs": [
    {
     "name": "stderr",
     "output_type": "stream",
     "text": [
      "/Users/wndpzr/GitHub/bookcase/.venv/lib/python3.13/site-packages/sklearn/utils/deprecation.py:151: FutureWarning: 'force_all_finite' was renamed to 'ensure_all_finite' in 1.6 and will be removed in 1.8.\n",
      "  warnings.warn(\n",
      "/Users/wndpzr/GitHub/bookcase/.venv/lib/python3.13/site-packages/sklearn/utils/deprecation.py:151: FutureWarning: 'force_all_finite' was renamed to 'ensure_all_finite' in 1.6 and will be removed in 1.8.\n",
      "  warnings.warn(\n"
     ]
    }
   ],
   "source": [
    "# Cluster the embeddings using HDBSCAN.\n",
    "clusterer = hdbscan.HDBSCAN(min_cluster_size=DIVISION_FACTOR//4, metric='euclidean')\n",
    "cluster_labels = clusterer.fit_predict(embeddings)"
   ]
  },
  {
   "cell_type": "code",
   "execution_count": 51,
   "metadata": {},
   "outputs": [],
   "source": [
    "# Group the books by clusters.\n",
    "clusters = {}\n",
    "for desc, label in zip(descriptions, cluster_labels):\n",
    "    clusters.setdefault(label, []).append(desc)"
   ]
  },
  {
   "cell_type": "code",
   "execution_count": 52,
   "metadata": {},
   "outputs": [
    {
     "name": "stdout",
     "output_type": "stream",
     "text": [
      "Total number of clusters: \u001b[32m60\u001b[0m\n",
      "Ratio of outliers: \u001b[31m783\u001b[0m/1000\n"
     ]
    }
   ],
   "source": [
    "print(\"Total number of clusters:\", al.g(str(len(clusters)), False))\n",
    "print(\"Ratio of outliers:\", '/'.join([\n",
    "    al.r(str(list(cluster_labels).count(-1)), False),\n",
    "    str(len(cluster_labels))\n",
    "]))"
   ]
  },
  {
   "cell_type": "code",
   "execution_count": 53,
   "metadata": {},
   "outputs": [],
   "source": [
    "clusters.pop(-1);"
   ]
  },
  {
   "cell_type": "code",
   "execution_count": 54,
   "metadata": {},
   "outputs": [
    {
     "data": {
      "text/plain": [
       "['given the opportunity, would you assume someone elses identity and leave your old life behind? a serendipitous crossing of paths between lisa barnes, a downonherluck job seeker, and julie forman, a personal trainer to an olympic hopeful, forever changes the course of both womens lives. one winds up dead and the other finds herself a fugitive, hiding behind one lie aft given the opportunity, would you assume someone elses identity and leave your old life behind? a serendipitous crossing of paths between lisa barnes, a downonherluck job seeker, and julie forman, a personal trainer to an olympic hopeful, forever changes the course of both womens lives. one winds up dead and the other finds herself a fugitive, hiding behind one lie after another as a coldblooded killer methodically hunts her. desperately trying to stay alive, the terrified woman enlists the help of forensic instincts, a rogue investigative team that clandestinely operates in the gray area between legal and illegal. safeguarding their clients deception, forensic instincts digs into dangerous territory as they try to find out whos after their client and why. meanwhile, bodies are piling up in chicago, new jersey, and vermont as a megalomaniacal genius will stop at nothing to eradicate anyone who threatens the success of his medical breakthrough. with an unhinged client and a monstrous criminal enterprise as its adversary, forensic instincts is forced into uncharted territory to protect their client and save one of their own from becoming the next corpse. forensic instincts is an unorthodox, criminal investigative team that carefully navigates the fine line between legal and illegal. the team consists of a behaviorist, a former navy seal, a techowiz, an intuitive, a pickpocket, a retired fbi agent, and a human scent evidence dog. ...more',\n",
       " 'as a forensic investigator for the cleveland police department, maggie gardiner has seen her share of jane does. the latest is an unidentified female in her early teens, discovered in a local cemetery. more shocking than the girls injuriesfor maggie at leastis the fact that no one has reported her missing. she and the detectives assigned to the case including her cop e as a forensic investigator for the cleveland police department, maggie gardiner has seen her share of jane does. the latest is an unidentified female in her early teens, discovered in a local cemetery. more shocking than the girls injuriesfor maggie at leastis the fact that no one has reported her missing. she and the detectives assigned to the case including her cop exhusband are determined to follow every lead, run down every scrap of evidence. but the monster they seek is watching each move, closer to them than they could ever imagine. jack renner is a killer. he doesnt murder because he savors it, or because he believes himself omnipotent, or for any reason other than to make the world a safer place. when he follows the trail of this jane doe to a locked room in a small apartment where eighteen teenaged girls are anything but safe, he knows something must be done. but his pursuit of their captor takes an unexpected turn.maggie gardiner finds another body waiting for her in the autopsy roomand a host of questions that will challenge everything she believes about justice, morality, and the true nature of evil  ...more',\n",
       " 'iris johansens beloved forensic sculptor eve duncan is back and now the stakes are higher than ever. dramatic changes are on the horizon for eve and joe quinn and their relationship may never be the same. faced with the task of protecting cara delaney, a young girl with ruthless enemies who want to see her dead, eve takes her away to the remote scottish highlands where th iris johansens beloved forensic sculptor eve duncan is back and now the stakes are higher than ever. dramatic changes are on the horizon for eve and joe quinn and their relationship may never be the same. faced with the task of protecting cara delaney, a young girl with ruthless enemies who want to see her dead, eve takes her away to the remote scottish highlands where they join jane macguire in search of a hidden treasure. but nowhere is far enough away to protect cara from danger. with enemies closing in from all sides, hide away is a highoctane thriller that fans will not want to miss. ...more']"
      ]
     },
     "execution_count": 54,
     "metadata": {},
     "output_type": "execute_result"
    }
   ],
   "source": [
    "random.choice(clusters)"
   ]
  },
  {
   "cell_type": "code",
   "execution_count": 61,
   "metadata": {},
   "outputs": [
    {
     "data": {
      "text/plain": [
       "['logan matthews is a father, architect, and widower. he lives in brooklyn, new york with his three year old son, liam. his life is as ordinary as any single father with a toddler. lara miller is a single mother raising her nine year old daughter, olivia in new york city, the city that never sleeps. she lives with her roommate, erin and finds that she enjoys life just the wa logan matthews is a father, architect, and widower. he lives in brooklyn, new york with his three year old son, liam. his life is as ordinary as any single father with a toddler. lara miller is a single mother raising her nine year old daughter, olivia in new york city, the city that never sleeps. she lives with her roommate, erin and finds that she enjoys life just the way it is. logan and lara have all but given up on love. however, fate has another plan for these parents because they both share something that will draw them together in a way they never thought possible. their daughter. ...more',\n",
       " 'maple valley became amelia bentleys haven after her heart and her dreams of a family were shattered. but her new life as a newspaper editor is shaken when the smalltown paper is in danger of closing. her one hope a lead on an intriguing story that just might impress the new publisher...if only she new who he was.after his biggest campaign success yet, widowed speechwrit maple valley became amelia bentleys haven after her heart and her dreams of a family were shattered. but her new life as a newspaper editor is shaken when the smalltown paper is in danger of closing. her one hope a lead on an intriguing story that just might impress the new publisher...if only she new who he was.after his biggest campaign success yet, widowed speechwriter logan walker now has the chance of a lifetimea spot on a presidential campaign. but his plans are interrupted when he finds out hes inherited his hometown newspaper. he travels home intent on selling the paper and spending some muchneeded time with his young daughter before making the leap into national politics.but instead of a quick sale and peaceful break from his hectic career, logan finds himself helping amelia chase her story. shes scrappy, but wounded. hes dependable, but lost. they may butt heads more than expected, but a series of leads on maple valleys quirky unsolved mystery is just the start of the sparks that fly in the office and in their hearts. ...more',\n",
       " 'growing up, cassie carter and her sisters, karen and nichole, were incredibly close  until one fateful event drove them apart. after high school, cassie ran away from home to marry the wrong man, throwing away a college scholarship and breaking her parents hearts. to make matters worse, cassie had always been their fathers favorite  a sentiment that weighed heavily o growing up, cassie carter and her sisters, karen and nichole, were incredibly close  until one fateful event drove them apart. after high school, cassie ran away from home to marry the wrong man, throwing away a college scholarship and breaking her parents hearts. to make matters worse, cassie had always been their fathers favorite  a sentiment that weighed heavily on her sisters and made cassies actions even harder to bear.now thirtyone, cassie is back in washington, living in seattle with her daughter and hoping to leave her past behind. after ending a difficult marriage, cassie is back on her own two feet, the pieces of her life slowly but surely coming together. despite the strides cassies made, she hasnt been able to make peace with her sisters. karen, the oldest, is a busy wife and mother, balancing her career with raising her two children. and nichole, the youngest, is a stayathome mom whose husband indulges her every whim. then one day, cassie receives a letter from karen, offering what cassie thinks may be a chance to reconcile. and as cassie opens herself up to new possibilities  making amends with her sisters, finding love once more  she realizes the power of compassion, and the promise of a fresh start. ...more']"
      ]
     },
     "execution_count": 61,
     "metadata": {},
     "output_type": "execute_result"
    }
   ],
   "source": [
    "random.choice(clusters)"
   ]
  },
  {
   "cell_type": "markdown",
   "metadata": {},
   "source": [
    "#### Outcomes of Method 4:\n",
    "\n",
    "As it seems, from the random cluster samples, the clusters generate book categories which contain similar books. Actually the clusters themselves are excellent, in terms of what the contain.\n",
    "\n",
    "However, each cluster contain very specific configurations. It is possible to just increase the minimum cluster size of course, but in that case the cluster amount becomes too low to be useful in any meanings.\n",
    "\n",
    "Also, the amount of outliers in the results shows that it will not be a useful tool. More than <font color=\"red\">75\\%</font> of the books have not been classified, meaning this model only works for some of the books, and therefore, should not be prefered."
   ]
  }
 ],
 "metadata": {
  "kernelspec": {
   "display_name": ".venv",
   "language": "python",
   "name": "python3"
  },
  "language_info": {
   "codemirror_mode": {
    "name": "ipython",
    "version": 3
   },
   "file_extension": ".py",
   "mimetype": "text/x-python",
   "name": "python",
   "nbconvert_exporter": "python",
   "pygments_lexer": "ipython3",
   "version": "3.13.1"
  }
 },
 "nbformat": 4,
 "nbformat_minor": 2
}
